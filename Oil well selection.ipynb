{
 "cells": [
  {
   "cell_type": "markdown",
   "id": "f3efe582",
   "metadata": {
    "toc": true
   },
   "source": [
    "<h1>Table of Contents<span class=\"tocSkip\"></span></h1>\n",
    "<div class=\"toc\"><ul class=\"toc-item\"><li><span><a href=\"#Изучение-данных-и-подготовка-к-работе\" data-toc-modified-id=\"Изучение-данных-и-подготовка-к-работе-1\"><span class=\"toc-item-num\">1&nbsp;&nbsp;</span>Изучение данных и подготовка к работе</a></span><ul class=\"toc-item\"><li><span><a href=\"#Переменные-константы-и-функции\" data-toc-modified-id=\"Переменные-константы-и-функции-1.1\"><span class=\"toc-item-num\">1.1&nbsp;&nbsp;</span>Переменные константы и функции</a></span></li><li><span><a href=\"#Общая-информация-о-датасетах-и-данных\" data-toc-modified-id=\"Общая-информация-о-датасетах-и-данных-1.2\"><span class=\"toc-item-num\">1.2&nbsp;&nbsp;</span>Общая информация о датасетах и данных</a></span></li><li><span><a href=\"#Подготовка-данных-к-работе\" data-toc-modified-id=\"Подготовка-данных-к-работе-1.3\"><span class=\"toc-item-num\">1.3&nbsp;&nbsp;</span>Подготовка данных к работе</a></span></li></ul></li><li><span><a href=\"#Обучение-и-проверка-модели-линейной-регрессии-для-каждого-региона.\" data-toc-modified-id=\"Обучение-и-проверка-модели-линейной-регрессии-для-каждого-региона.-2\"><span class=\"toc-item-num\">2&nbsp;&nbsp;</span>Обучение и проверка модели линейной регрессии для каждого региона.</a></span></li><li><span><a href=\"#Подготовка-данных-к-расчёту-прибыли\" data-toc-modified-id=\"Подготовка-данных-к-расчёту-прибыли-3\"><span class=\"toc-item-num\">3&nbsp;&nbsp;</span>Подготовка данных к расчёту прибыли</a></span></li><li><span><a href=\"#Расчёта-прибыли-по-выбранным-скважинам-и-предсказаным-моделями-запасами\" data-toc-modified-id=\"Расчёта-прибыли-по-выбранным-скважинам-и-предсказаным-моделями-запасами-4\"><span class=\"toc-item-num\">4&nbsp;&nbsp;</span>Расчёта прибыли по выбранным скважинам и предсказаным моделями запасами</a></span></li><li><span><a href=\"#Риски-и-прибыль-для-каждого-региона\" data-toc-modified-id=\"Риски-и-прибыль-для-каждого-региона-5\"><span class=\"toc-item-num\">5&nbsp;&nbsp;</span>Риски и прибыль для каждого региона</a></span></li><li><span><a href=\"#Итоги\" data-toc-modified-id=\"Итоги-6\"><span class=\"toc-item-num\">6&nbsp;&nbsp;</span>Итоги</a></span></li></ul></div>"
   ]
  },
  {
   "cell_type": "markdown",
   "id": "da3ffdad",
   "metadata": {},
   "source": [
    "# Описание проекта:"
   ]
  },
  {
   "cell_type": "markdown",
   "id": "f9ef8ef5",
   "metadata": {},
   "source": [
    "Добывающая компания «ГлавРосГосНефть» предоставила пробы нефти в трёх регионах и характеристики для каждой скважины в регионе. \n",
    " \n",
    "Нужно решить, где бурить новую скважину. \n",
    "\n",
    "Условия поставленной задачи:\n",
    "\n",
    "- Для обучения модели подходит только линейная регрессия (остальные — недостаточно предсказуемые).\n",
    "\n",
    "- При разведке региона исследуют 500 точек, из которых с помощью машинного обучения выбирают 200 лучших для разработки.\n",
    "\n",
    "- Бюджет на разработку скважин в регионе — 10 млрд рублей.\n",
    "\n",
    "- При нынешних ценах один баррель сырья приносит 450 рублей дохода. Доход с каждой единицы продукта составляет 450 тыс. рублей, поскольку объём указан в тысячах баррелей.\n",
    "\n",
    "- После оценки рисков нужно оставить лишь те регионы, в которых вероятность убытков меньше 2.5%. Среди них выбирают регион с наибольшей средней прибылью."
   ]
  },
  {
   "cell_type": "markdown",
   "id": "b519f514",
   "metadata": {},
   "source": [
    "# Цель:"
   ]
  },
  {
   "cell_type": "markdown",
   "id": "050bbe5f",
   "metadata": {},
   "source": [
    "Необходимо построитть модель для определения региона, где добыча принесёт наибольшую прибыль. \n",
    "\n",
    "Проанализировать возможную прибыль и риски. "
   ]
  },
  {
   "cell_type": "markdown",
   "id": "f4841630",
   "metadata": {},
   "source": [
    "# Шаги для выбора локации:"
   ]
  },
  {
   "cell_type": "markdown",
   "id": "ddaca6a1",
   "metadata": {},
   "source": [
    "- Отпределяют регионы, собрают характеристики для скважин: качество нефти и объём её запасов;\n",
    "\n",
    "- Посторим модель для предсказания объёма запасов в новых скважинах;\n",
    "\n",
    "- Выбираем скважины с самыми высокими оценками значений;\n",
    "\n",
    "- Определяем регион с максимальной суммарной прибылью отобранных скважин и минальным риском получить убыток."
   ]
  },
  {
   "cell_type": "markdown",
   "id": "3f8b5a17",
   "metadata": {},
   "source": [
    "# Описание данных:"
   ]
  },
  {
   "cell_type": "markdown",
   "id": "3cc8f991",
   "metadata": {},
   "source": [
    "Данные геологоразведки трёх регионов находятся в файлах: \n",
    "\n",
    "- `/datasets/geo_data_0.csv.` \n",
    "\n",
    "- `/datasets/geo_data_1.csv.` \n",
    "\n",
    "- `/datasets/geo_data_2.csv.` \n",
    "\n",
    "- `id` — уникальный идентификатор скважины;\n",
    "\n",
    "- `f0`,` f1`, `f2` — три признака точек (признаки значимы);\n",
    "\n",
    "- `product` — объём запасов в скважине (тыс. баррелей)."
   ]
  },
  {
   "cell_type": "markdown",
   "id": "52b26fd9",
   "metadata": {},
   "source": [
    "# Краткий план работы:"
   ]
  },
  {
   "cell_type": "markdown",
   "id": "c223a18b",
   "metadata": {},
   "source": [
    "- Загрузим и подготовим данные. \n",
    "\n",
    "- Обучим и проверм модель для каждого региона:\n",
    "\n",
    "    - Разберем данные на обучающую и валидационную выборки в соотношении 75:25.\n",
    "    \n",
    "    - Обучим модель и сделаем предсказания на валидационной выборке.\n",
    "    \n",
    "    - Сохраним предсказания и правильные ответы на валидационной выборке.\n",
    "    \n",
    "    - Расчитаем средний запас предсказанного сырья и `RMSE` модели.\n",
    "    \n",
    "    - Проанализируем результаты.\n",
    "    \n",
    "- Подготовим данные к расчёту прибыли:\n",
    "\n",
    "    - Все ключевые значения для расчётов сохраним в отдельных переменных.\n",
    "    \n",
    "    - Рассчитаем достаточный объём сырья для безубыточной разработки новой скважины. Сравним полученный объём сырья со средним запасом в каждом регионе. \n",
    "    \n",
    "    - Подготовим выводы по этапу подготовки расчёта прибыли.\n",
    "    \n",
    "- Напишем функцию для расчёта прибыли по выбранным скважинам и предсказаниям модели:\n",
    "\n",
    "    - Выберем скважины с максимальными значениями предсказаний.\n",
    "    \n",
    "    - Просуммируем целевое значение объёма сырья, соответствующее этим предсказаниям.\n",
    "    \n",
    "    - Рассчитаем прибыль для полученного объёма сырья.\n",
    "    \n",
    "- Посчитаем риски и прибыль для каждого региона:\n",
    "\n",
    "    - Применим технику `Bootstrap` с 1000 выборок, чтобы найти распределение прибыли.\n",
    "    \n",
    "    - Найдем среднюю прибыль, `95%-й доверительный интервал` и риск убытков.\n",
    "    \n",
    "    - Подоготовим выводы: предложим регион для разработки скважин и обоснуем выбор."
   ]
  },
  {
   "cell_type": "markdown",
   "id": "96af33db",
   "metadata": {},
   "source": [
    "##  Изучение данных и подготовка к работе"
   ]
  },
  {
   "cell_type": "markdown",
   "id": "cb3d9241",
   "metadata": {},
   "source": [
    "Настроим окружение: импортируем все необходимые библиотеки."
   ]
  },
  {
   "cell_type": "code",
   "execution_count": 1,
   "id": "844cb318",
   "metadata": {},
   "outputs": [],
   "source": [
    "import pandas as pd\n",
    "import numpy as np\n",
    "import matplotlib.pyplot as plt\n",
    "import seaborn as sns\n",
    "\n",
    "from numpy.random import RandomState\n",
    "from sklearn.model_selection import train_test_split\n",
    "from sklearn.preprocessing import StandardScaler\n",
    "from sklearn.linear_model import LinearRegression\n",
    "from sklearn.metrics import mean_squared_error\n",
    "\n",
    "from sklearn.utils import shuffle\n",
    "\n",
    "import warnings\n",
    "warnings.filterwarnings('ignore')"
   ]
  },
  {
   "cell_type": "markdown",
   "id": "cf37edd3",
   "metadata": {},
   "source": [
    "### Переменные константы и функции"
   ]
  },
  {
   "cell_type": "code",
   "execution_count": 2,
   "id": "3e5e3dd6",
   "metadata": {},
   "outputs": [],
   "source": [
    "STATE = np.random.RandomState(123)\n",
    "# количество исследуемых объектов в регионе\n",
    "RESEARCH_POINTS = 500 \n",
    "# количество лучших объектов для разработки\n",
    "BEST_RESEARCH_POINTS = 200 \n",
    "# бюджет на разработку скважин в регионе\n",
    "BUDGET = 10 * (10 ** 9)\n",
    "# доход с 1000 баррелей сырья\n",
    "PRODUCT_INCOME = 450 * 1000\n",
    "# количество выборок для bootstrap \n",
    "NUMBER_BOOTSTRAP_SAMPLES = 1000 \n",
    "# максимальный риск убытка\n",
    "LOSS_THRESHOLD = 0.025\n",
    "# доверительный интервал \n",
    "CONFIDENCE_INTERVAL = 0.95"
   ]
  },
  {
   "cell_type": "code",
   "execution_count": 3,
   "id": "81301532",
   "metadata": {},
   "outputs": [],
   "source": [
    "# метод вывода уникальных значений столбцов-признаков в датафрейме\n",
    "def check_columns(df):    \n",
    "    for column in df.columns:        \n",
    "        print('Количество уникальных значений столбца', column, '-', df[column].nunique())        \n",
    "        print(df[column].sort_values().unique())         \n",
    "        print('____________________________________')"
   ]
  },
  {
   "cell_type": "code",
   "execution_count": 4,
   "id": "92ccbee0",
   "metadata": {},
   "outputs": [],
   "source": [
    "# метод определяет количество и процент нулевых значений в столбце product\n",
    "def check_product_zeros(df, column):    \n",
    "    zeros = df[df[column] == 0][column].count()    \n",
    "    percent = zeros / df.shape[0]    \n",
    "    print('Количество нулевых значений -', zeros)    \n",
    "    print('Процент нулевых значений -', percent)"
   ]
  },
  {
   "cell_type": "code",
   "execution_count": 5,
   "id": "07fb66db",
   "metadata": {},
   "outputs": [],
   "source": [
    "# гистограмма распределения признака product\n",
    "def product_hist(region, bins, xlim_max, ylim_max):    \n",
    "    plt.figure(figsize=[10,5])\n",
    "    plt.hist(region, bins=bins)\n",
    "    plt.xlim([0,xlim_max])    \n",
    "    plt.ylim([0,ylim_max])\n",
    "    plt.xlabel(\"Объем нефти на скважину, тыс. барелей\")    \n",
    "    plt.ylabel(\"Количество скважин\")\n",
    "    plt.title(\"Гистограмма распределения по объему скважин\")    \n",
    "    plt.show()"
   ]
  },
  {
   "cell_type": "code",
   "execution_count": 6,
   "id": "d45c05c4",
   "metadata": {},
   "outputs": [],
   "source": [
    "#боксплот для признаков датафрейма\n",
    "def boxplot_df(df, title):    \n",
    "    names = df.columns    \n",
    "    ncols = len(names)    \n",
    "    fig, axes = plt.subplots(1,ncols, figsize=(20, 5))    \n",
    "    for name, ax in zip( names, axes.flatten()):        \n",
    "        sns.boxplot(y=name, data=df, orient='v', ax=ax)        \n",
    "        plt.suptitle(title)   "
   ]
  },
  {
   "cell_type": "code",
   "execution_count": 7,
   "id": "a1c95e40",
   "metadata": {},
   "outputs": [],
   "source": [
    "# метод найдет и посчитает выбросы\n",
    "def find_outliers(df,column, title):    \n",
    "    # определим 25 и 75% квантили\n",
    "    q25=np.array(df[column].quantile(0.25))    \n",
    "    q75=np.array(df[column].quantile(0.75))\n",
    "    \n",
    "    # границы нормального размаха\n",
    "    limit_of_normal_range_left=q25-1.5*(q75-q25)    \n",
    "    limit_of_normal_range_right=q75+1.5*(q75-q25)\n",
    "    \n",
    "    # определим индексы объектов - выбросов\n",
    "    del_index = []    \n",
    "    for index_value, value in zip(df[column].index,df[column]):        \n",
    "        if limit_of_normal_range_right <= value or value <= limit_of_normal_range_left:            \n",
    "            del_index.append(index_value)    \n",
    "    print('Количество строк, выбранных для удаления в столбце', column, title, ': ', len(del_index))    \n",
    "    print('Процент удаленных данных', len(del_index)*100/df.shape[0])    \n",
    "    print('___________________________________________________________')    \n",
    "    return del_index"
   ]
  },
  {
   "cell_type": "code",
   "execution_count": 8,
   "id": "fa79673c",
   "metadata": {},
   "outputs": [],
   "source": [
    "#  метод разобъет датасет на обучающую и валидационную выборку, проведем мастабирование независимых признаков\n",
    "def split_scaled_df(df, region):    \n",
    "    # Выделим независимые признаки и целевой признак\n",
    "    X = df.drop(columns=['product'])    \n",
    "    y = df['product']    \n",
    "    # разобъем выборки на 2 части: обучающую и валидационную (соотношение 75/25)\n",
    "    X_train, X_valid, y_train, y_valid = train_test_split(X, y, test_size = 0.25, random_state = STATE) \n",
    "    \n",
    "    print('Данные по региону', region)    \n",
    "    print('__________________')    \n",
    "    print('размер выборки X_train:', X_train.shape)    \n",
    "    print('размер выборки X_valid:', X_valid.shape)    \n",
    "    print('размер выборки y_train:', y_train.shape)    \n",
    "    print('размер выборки y_valid:', y_valid.shape) \n",
    "    \n",
    "    # выделим столбцы для стандартизации\n",
    "    numeric = ['f0', 'f1', 'f2']    \n",
    "    # создадим копии обучающей и валидационной выборок с независимыми признаками для дальнейшей стандартизации данных\n",
    "    X_train_scaled = X_train.copy()    \n",
    "    X_valid_scaled = X_valid.copy()\n",
    "    \n",
    "    # стандатртизируем данные\n",
    "    scaler = StandardScaler()    \n",
    "    scaler.fit(X_train[numeric])    \n",
    "    X_train_scaled[numeric] = scaler.transform(X_train[numeric])    \n",
    "    X_valid_scaled[numeric] = scaler.transform(X_valid[numeric])            \n",
    "    return X_train_scaled, X_valid_scaled, y_train, y_valid"
   ]
  },
  {
   "cell_type": "code",
   "execution_count": 9,
   "id": "ef448ff1",
   "metadata": {},
   "outputs": [],
   "source": [
    "#  метод для передачи выборок в обучающую модель линейной регрессии, \n",
    "#  вычисления среднего запаса сырья и RMSE для каждого из датасетов.\n",
    "def train_model(df, region):    \n",
    "    #  вызовем метод split_scaled_df() для получения разделенных выборок и стандартизированных данных \n",
    "    X_train_scaled, X_valid_scaled, y_train, y_valid = split_scaled_df(df, region)\n",
    "    \n",
    "    #  обучим модель линейная регрессия \n",
    "    model = LinearRegression()    \n",
    "    model.fit(X_train_scaled, y_train)    \n",
    "    predictions_valid = pd.Series(model.predict(X_valid_scaled), index=X_valid_scaled.index)  \n",
    "    \n",
    "    # создадим таблицу с реальными и предсказанными значениями целевого признака для наглядного сравнения\n",
    "    data = {'real_product' : y_valid, 'predictions_product' : predictions_valid}    \n",
    "    data_frame = pd.DataFrame(data, columns = ['real_product', 'predictions_product'])\n",
    "   \n",
    "    # расчитаем квадрат. корень из среднеквадратической ошибки (что б легче было интерпритировать ошибку)\n",
    "    rmse = mean_squared_error(y_valid, predictions_valid) ** 0.5\n",
    "    \n",
    "    print('__________________')    \n",
    "    print('RMSE: {:.2f}'.format(rmse))\n",
    "    \n",
    "    # расчитаем квадрат. корень из среднеквадратической ошибки на константной модели\n",
    "    # вместо предсказанных данных на валидационной выборки возьмем среднее значение обучающей выборки\n",
    "    mean_train = pd.Series(y_train.mean(), index = y_valid.index)    \n",
    "    rmse_const_model = mean_squared_error(y_valid, mean_train) ** 0.5    \n",
    "    print('RMSE на константной модели: {:.2f}'.format(rmse_const_model))\n",
    "    \n",
    "    # для сопоставления расчитаем средние значения предсказанного запаса и фактически обнаруженного запаса сырья\n",
    "    mean_predictions = predictions_valid.mean()    \n",
    "    actual_mean = y_valid.mean() \n",
    "    \n",
    "    print('__________________')    \n",
    "    print('Средний запас предсказанного сырья в регионе: {:.2f}'.format(mean_predictions))    \n",
    "    print('Фактический средний запас сырья в регионе: {:.2f}'.format(actual_mean))\n",
    "    \n",
    "    # для сопоставления расчитаем суммарный предсказанный запас и фактический сумарный запас сырья по региону\n",
    "    sum_predictions = predictions_valid.sum()    \n",
    "    actual_sum = y_valid.sum()\n",
    "    \n",
    "    print('__________________')    \n",
    "    print('Суммарный запас предсказанного сырья в регионе: {:.2f}'.format(sum_predictions))    \n",
    "    print('Фактический суммарный запас сырья в регионе: {:.2f}'.format(actual_sum))\n",
    "    \n",
    "    return data_frame, y_valid, predictions_valid"
   ]
  },
  {
   "cell_type": "markdown",
   "id": "e2d5bb7f",
   "metadata": {},
   "source": [
    "<a id = 'df'></a>"
   ]
  },
  {
   "cell_type": "markdown",
   "id": "f2e6dfd9",
   "metadata": {},
   "source": [
    "###  Общая информация о датасетах и данных"
   ]
  },
  {
   "cell_type": "markdown",
   "id": "78e6091e",
   "metadata": {},
   "source": [
    "Ознакомимся с данными таблиц и их структурой.\n",
    "\n",
    "Загрузим в датафреймы данные, с которыми будем работать.\n",
    "\n",
    "Посмотрим на несколько первых записей в датафреймах c помощью метода `head()`.\n",
    "\n",
    "Выведем общую информацию по таблицах c помощью метода `info()`."
   ]
  },
  {
   "cell_type": "code",
   "execution_count": 10,
   "id": "eb167748",
   "metadata": {},
   "outputs": [],
   "source": [
    "try:    \n",
    "    df_1 = pd.read_csv('/datasets/geo_data_0.csv', sep=',')    \n",
    "    df_2 = pd.read_csv('/datasets/geo_data_1.csv', sep=',')    \n",
    "    df_3 = pd.read_csv('/datasets/geo_data_2.csv', sep=',')    \n",
    "except:    \n",
    "    # для локальной работы\n",
    "    df_1 = pd.read_csv('geo_data_0.csv', sep=',')     \n",
    "    df_2 = pd.read_csv('geo_data_1.csv', sep=',')     \n",
    "    df_3 = pd.read_csv('geo_data_2.csv', sep=',')     "
   ]
  },
  {
   "cell_type": "code",
   "execution_count": 11,
   "id": "2670b553",
   "metadata": {},
   "outputs": [
    {
     "data": {
      "text/html": [
       "<div>\n",
       "<style scoped>\n",
       "    .dataframe tbody tr th:only-of-type {\n",
       "        vertical-align: middle;\n",
       "    }\n",
       "\n",
       "    .dataframe tbody tr th {\n",
       "        vertical-align: top;\n",
       "    }\n",
       "\n",
       "    .dataframe thead th {\n",
       "        text-align: right;\n",
       "    }\n",
       "</style>\n",
       "<table border=\"1\" class=\"dataframe\">\n",
       "  <thead>\n",
       "    <tr style=\"text-align: right;\">\n",
       "      <th></th>\n",
       "      <th>id</th>\n",
       "      <th>f0</th>\n",
       "      <th>f1</th>\n",
       "      <th>f2</th>\n",
       "      <th>product</th>\n",
       "    </tr>\n",
       "  </thead>\n",
       "  <tbody>\n",
       "    <tr>\n",
       "      <th>0</th>\n",
       "      <td>txEyH</td>\n",
       "      <td>0.705745</td>\n",
       "      <td>-0.497823</td>\n",
       "      <td>1.221170</td>\n",
       "      <td>105.280062</td>\n",
       "    </tr>\n",
       "    <tr>\n",
       "      <th>1</th>\n",
       "      <td>2acmU</td>\n",
       "      <td>1.334711</td>\n",
       "      <td>-0.340164</td>\n",
       "      <td>4.365080</td>\n",
       "      <td>73.037750</td>\n",
       "    </tr>\n",
       "    <tr>\n",
       "      <th>2</th>\n",
       "      <td>409Wp</td>\n",
       "      <td>1.022732</td>\n",
       "      <td>0.151990</td>\n",
       "      <td>1.419926</td>\n",
       "      <td>85.265647</td>\n",
       "    </tr>\n",
       "    <tr>\n",
       "      <th>3</th>\n",
       "      <td>iJLyR</td>\n",
       "      <td>-0.032172</td>\n",
       "      <td>0.139033</td>\n",
       "      <td>2.978566</td>\n",
       "      <td>168.620776</td>\n",
       "    </tr>\n",
       "    <tr>\n",
       "      <th>4</th>\n",
       "      <td>Xdl7t</td>\n",
       "      <td>1.988431</td>\n",
       "      <td>0.155413</td>\n",
       "      <td>4.751769</td>\n",
       "      <td>154.036647</td>\n",
       "    </tr>\n",
       "  </tbody>\n",
       "</table>\n",
       "</div>"
      ],
      "text/plain": [
       "      id        f0        f1        f2     product\n",
       "0  txEyH  0.705745 -0.497823  1.221170  105.280062\n",
       "1  2acmU  1.334711 -0.340164  4.365080   73.037750\n",
       "2  409Wp  1.022732  0.151990  1.419926   85.265647\n",
       "3  iJLyR -0.032172  0.139033  2.978566  168.620776\n",
       "4  Xdl7t  1.988431  0.155413  4.751769  154.036647"
      ]
     },
     "execution_count": 11,
     "metadata": {},
     "output_type": "execute_result"
    }
   ],
   "source": [
    "df_1.head()"
   ]
  },
  {
   "cell_type": "code",
   "execution_count": 12,
   "id": "ab2c741c",
   "metadata": {},
   "outputs": [
    {
     "name": "stdout",
     "output_type": "stream",
     "text": [
      "<class 'pandas.core.frame.DataFrame'>\n",
      "RangeIndex: 100000 entries, 0 to 99999\n",
      "Data columns (total 5 columns):\n",
      " #   Column   Non-Null Count   Dtype  \n",
      "---  ------   --------------   -----  \n",
      " 0   id       100000 non-null  object \n",
      " 1   f0       100000 non-null  float64\n",
      " 2   f1       100000 non-null  float64\n",
      " 3   f2       100000 non-null  float64\n",
      " 4   product  100000 non-null  float64\n",
      "dtypes: float64(4), object(1)\n",
      "memory usage: 3.8+ MB\n"
     ]
    }
   ],
   "source": [
    "df_1.info()"
   ]
  },
  {
   "cell_type": "code",
   "execution_count": 13,
   "id": "e10ff377",
   "metadata": {},
   "outputs": [
    {
     "data": {
      "text/html": [
       "<div>\n",
       "<style scoped>\n",
       "    .dataframe tbody tr th:only-of-type {\n",
       "        vertical-align: middle;\n",
       "    }\n",
       "\n",
       "    .dataframe tbody tr th {\n",
       "        vertical-align: top;\n",
       "    }\n",
       "\n",
       "    .dataframe thead th {\n",
       "        text-align: right;\n",
       "    }\n",
       "</style>\n",
       "<table border=\"1\" class=\"dataframe\">\n",
       "  <thead>\n",
       "    <tr style=\"text-align: right;\">\n",
       "      <th></th>\n",
       "      <th>id</th>\n",
       "      <th>f0</th>\n",
       "      <th>f1</th>\n",
       "      <th>f2</th>\n",
       "      <th>product</th>\n",
       "    </tr>\n",
       "  </thead>\n",
       "  <tbody>\n",
       "    <tr>\n",
       "      <th>0</th>\n",
       "      <td>kBEdx</td>\n",
       "      <td>-15.001348</td>\n",
       "      <td>-8.276000</td>\n",
       "      <td>-0.005876</td>\n",
       "      <td>3.179103</td>\n",
       "    </tr>\n",
       "    <tr>\n",
       "      <th>1</th>\n",
       "      <td>62mP7</td>\n",
       "      <td>14.272088</td>\n",
       "      <td>-3.475083</td>\n",
       "      <td>0.999183</td>\n",
       "      <td>26.953261</td>\n",
       "    </tr>\n",
       "    <tr>\n",
       "      <th>2</th>\n",
       "      <td>vyE1P</td>\n",
       "      <td>6.263187</td>\n",
       "      <td>-5.948386</td>\n",
       "      <td>5.001160</td>\n",
       "      <td>134.766305</td>\n",
       "    </tr>\n",
       "    <tr>\n",
       "      <th>3</th>\n",
       "      <td>KcrkZ</td>\n",
       "      <td>-13.081196</td>\n",
       "      <td>-11.506057</td>\n",
       "      <td>4.999415</td>\n",
       "      <td>137.945408</td>\n",
       "    </tr>\n",
       "    <tr>\n",
       "      <th>4</th>\n",
       "      <td>AHL4O</td>\n",
       "      <td>12.702195</td>\n",
       "      <td>-8.147433</td>\n",
       "      <td>5.004363</td>\n",
       "      <td>134.766305</td>\n",
       "    </tr>\n",
       "  </tbody>\n",
       "</table>\n",
       "</div>"
      ],
      "text/plain": [
       "      id         f0         f1        f2     product\n",
       "0  kBEdx -15.001348  -8.276000 -0.005876    3.179103\n",
       "1  62mP7  14.272088  -3.475083  0.999183   26.953261\n",
       "2  vyE1P   6.263187  -5.948386  5.001160  134.766305\n",
       "3  KcrkZ -13.081196 -11.506057  4.999415  137.945408\n",
       "4  AHL4O  12.702195  -8.147433  5.004363  134.766305"
      ]
     },
     "execution_count": 13,
     "metadata": {},
     "output_type": "execute_result"
    }
   ],
   "source": [
    "df_2.head()"
   ]
  },
  {
   "cell_type": "code",
   "execution_count": 14,
   "id": "8b191212",
   "metadata": {},
   "outputs": [
    {
     "name": "stdout",
     "output_type": "stream",
     "text": [
      "<class 'pandas.core.frame.DataFrame'>\n",
      "RangeIndex: 100000 entries, 0 to 99999\n",
      "Data columns (total 5 columns):\n",
      " #   Column   Non-Null Count   Dtype  \n",
      "---  ------   --------------   -----  \n",
      " 0   id       100000 non-null  object \n",
      " 1   f0       100000 non-null  float64\n",
      " 2   f1       100000 non-null  float64\n",
      " 3   f2       100000 non-null  float64\n",
      " 4   product  100000 non-null  float64\n",
      "dtypes: float64(4), object(1)\n",
      "memory usage: 3.8+ MB\n"
     ]
    }
   ],
   "source": [
    "df_2.info()"
   ]
  },
  {
   "cell_type": "code",
   "execution_count": 15,
   "id": "7b0ffa9e",
   "metadata": {},
   "outputs": [
    {
     "data": {
      "text/html": [
       "<div>\n",
       "<style scoped>\n",
       "    .dataframe tbody tr th:only-of-type {\n",
       "        vertical-align: middle;\n",
       "    }\n",
       "\n",
       "    .dataframe tbody tr th {\n",
       "        vertical-align: top;\n",
       "    }\n",
       "\n",
       "    .dataframe thead th {\n",
       "        text-align: right;\n",
       "    }\n",
       "</style>\n",
       "<table border=\"1\" class=\"dataframe\">\n",
       "  <thead>\n",
       "    <tr style=\"text-align: right;\">\n",
       "      <th></th>\n",
       "      <th>id</th>\n",
       "      <th>f0</th>\n",
       "      <th>f1</th>\n",
       "      <th>f2</th>\n",
       "      <th>product</th>\n",
       "    </tr>\n",
       "  </thead>\n",
       "  <tbody>\n",
       "    <tr>\n",
       "      <th>0</th>\n",
       "      <td>fwXo0</td>\n",
       "      <td>-1.146987</td>\n",
       "      <td>0.963328</td>\n",
       "      <td>-0.828965</td>\n",
       "      <td>27.758673</td>\n",
       "    </tr>\n",
       "    <tr>\n",
       "      <th>1</th>\n",
       "      <td>WJtFt</td>\n",
       "      <td>0.262778</td>\n",
       "      <td>0.269839</td>\n",
       "      <td>-2.530187</td>\n",
       "      <td>56.069697</td>\n",
       "    </tr>\n",
       "    <tr>\n",
       "      <th>2</th>\n",
       "      <td>ovLUW</td>\n",
       "      <td>0.194587</td>\n",
       "      <td>0.289035</td>\n",
       "      <td>-5.586433</td>\n",
       "      <td>62.871910</td>\n",
       "    </tr>\n",
       "    <tr>\n",
       "      <th>3</th>\n",
       "      <td>q6cA6</td>\n",
       "      <td>2.236060</td>\n",
       "      <td>-0.553760</td>\n",
       "      <td>0.930038</td>\n",
       "      <td>114.572842</td>\n",
       "    </tr>\n",
       "    <tr>\n",
       "      <th>4</th>\n",
       "      <td>WPMUX</td>\n",
       "      <td>-0.515993</td>\n",
       "      <td>1.716266</td>\n",
       "      <td>5.899011</td>\n",
       "      <td>149.600746</td>\n",
       "    </tr>\n",
       "  </tbody>\n",
       "</table>\n",
       "</div>"
      ],
      "text/plain": [
       "      id        f0        f1        f2     product\n",
       "0  fwXo0 -1.146987  0.963328 -0.828965   27.758673\n",
       "1  WJtFt  0.262778  0.269839 -2.530187   56.069697\n",
       "2  ovLUW  0.194587  0.289035 -5.586433   62.871910\n",
       "3  q6cA6  2.236060 -0.553760  0.930038  114.572842\n",
       "4  WPMUX -0.515993  1.716266  5.899011  149.600746"
      ]
     },
     "execution_count": 15,
     "metadata": {},
     "output_type": "execute_result"
    }
   ],
   "source": [
    "df_3.head()"
   ]
  },
  {
   "cell_type": "code",
   "execution_count": 16,
   "id": "12319c5a",
   "metadata": {},
   "outputs": [
    {
     "name": "stdout",
     "output_type": "stream",
     "text": [
      "<class 'pandas.core.frame.DataFrame'>\n",
      "RangeIndex: 100000 entries, 0 to 99999\n",
      "Data columns (total 5 columns):\n",
      " #   Column   Non-Null Count   Dtype  \n",
      "---  ------   --------------   -----  \n",
      " 0   id       100000 non-null  object \n",
      " 1   f0       100000 non-null  float64\n",
      " 2   f1       100000 non-null  float64\n",
      " 3   f2       100000 non-null  float64\n",
      " 4   product  100000 non-null  float64\n",
      "dtypes: float64(4), object(1)\n",
      "memory usage: 3.8+ MB\n"
     ]
    }
   ],
   "source": [
    "df_3.info()"
   ]
  },
  {
   "cell_type": "markdown",
   "id": "4df08105",
   "metadata": {},
   "source": [
    "Типы данных в каждом датафрейме одинаковые:\n",
    "\n",
    "-Категориальные: `id`.\n",
    "\n",
    "-Количественные: `f0`, `f1`, `f2`.\n",
    "\n",
    "-Логические: логических нет.\n",
    "\n",
    "Всего в каждом датафрейме по  100000 объектов (в каждом регионе рассматривается по 100тыс скважин) и 5 признаков (характеристик) для них.\n",
    "\n",
    "Каждый датафрейм представляет регион разработки.\n",
    "\n",
    "Пропусков в данных нет."
   ]
  },
  {
   "cell_type": "markdown",
   "id": "5b4fedac",
   "metadata": {},
   "source": [
    "Вызывем метод `columns` для изучения корректности названий заголовков датафреймов."
   ]
  },
  {
   "cell_type": "code",
   "execution_count": 17,
   "id": "846b48d1",
   "metadata": {},
   "outputs": [
    {
     "data": {
      "text/plain": [
       "Index(['id', 'f0', 'f1', 'f2', 'product'], dtype='object')"
      ]
     },
     "execution_count": 17,
     "metadata": {},
     "output_type": "execute_result"
    }
   ],
   "source": [
    "df_1.columns"
   ]
  },
  {
   "cell_type": "code",
   "execution_count": 18,
   "id": "f7bc0607",
   "metadata": {},
   "outputs": [
    {
     "data": {
      "text/plain": [
       "Index(['id', 'f0', 'f1', 'f2', 'product'], dtype='object')"
      ]
     },
     "execution_count": 18,
     "metadata": {},
     "output_type": "execute_result"
    }
   ],
   "source": [
    "df_2.columns"
   ]
  },
  {
   "cell_type": "code",
   "execution_count": 19,
   "id": "fa00a23f",
   "metadata": {},
   "outputs": [
    {
     "data": {
      "text/plain": [
       "Index(['id', 'f0', 'f1', 'f2', 'product'], dtype='object')"
      ]
     },
     "execution_count": 19,
     "metadata": {},
     "output_type": "execute_result"
    }
   ],
   "source": [
    "df_3.columns"
   ]
  },
  {
   "cell_type": "markdown",
   "id": "bfc3949c",
   "metadata": {},
   "source": [
    "Беспорядочных имен столбцов нет, пробелы в названиях не используются."
   ]
  },
  {
   "cell_type": "markdown",
   "id": "6ead17eb",
   "metadata": {},
   "source": [
    "Проверим данные на наличие дубликатов."
   ]
  },
  {
   "cell_type": "code",
   "execution_count": 20,
   "id": "b07013e7",
   "metadata": {},
   "outputs": [
    {
     "name": "stdout",
     "output_type": "stream",
     "text": [
      "Число дубликатов в df_1: 0\n",
      "Число дубликатов в df_2: 0\n",
      "Число дубликатов в df_3: 0\n"
     ]
    }
   ],
   "source": [
    "print(\"Число дубликатов в df_1:\", df_1.duplicated().sum())\n",
    "print(\"Число дубликатов в df_2:\", df_2.duplicated().sum())\n",
    "print(\"Число дубликатов в df_3:\", df_3.duplicated().sum())"
   ]
  },
  {
   "cell_type": "markdown",
   "id": "2955e06b",
   "metadata": {},
   "source": [
    "Найдем неявные дубликаты по признакам `f0`, `f1`, `f2`, `product`."
   ]
  },
  {
   "cell_type": "code",
   "execution_count": 21,
   "id": "4a342b5d",
   "metadata": {},
   "outputs": [
    {
     "data": {
      "text/plain": [
       "0"
      ]
     },
     "execution_count": 21,
     "metadata": {},
     "output_type": "execute_result"
    }
   ],
   "source": [
    "df_1.duplicated(subset = ['f0', 'f1', 'f2', 'product']).sum()"
   ]
  },
  {
   "cell_type": "code",
   "execution_count": 22,
   "id": "8e58fba8",
   "metadata": {},
   "outputs": [
    {
     "data": {
      "text/plain": [
       "0"
      ]
     },
     "execution_count": 22,
     "metadata": {},
     "output_type": "execute_result"
    }
   ],
   "source": [
    "df_2.duplicated(subset = ['f0', 'f1', 'f2', 'product']).sum()"
   ]
  },
  {
   "cell_type": "code",
   "execution_count": 23,
   "id": "cf13316f",
   "metadata": {},
   "outputs": [
    {
     "data": {
      "text/plain": [
       "0"
      ]
     },
     "execution_count": 23,
     "metadata": {},
     "output_type": "execute_result"
    }
   ],
   "source": [
    "df_3.duplicated(subset = ['f0', 'f1', 'f2', 'product']).sum()"
   ]
  },
  {
   "cell_type": "markdown",
   "id": "76423d4d",
   "metadata": {},
   "source": [
    "Неявных дубликатов нет, а значит скважин с одинаковыми параметрами в датафреймах тоже нет."
   ]
  },
  {
   "cell_type": "markdown",
   "id": "b802bb32",
   "metadata": {},
   "source": [
    "Выведем уникальные значения каждого столбца. Воспользуемся методом `check_columns(df)`."
   ]
  },
  {
   "cell_type": "code",
   "execution_count": 24,
   "id": "8beb3587",
   "metadata": {},
   "outputs": [
    {
     "name": "stdout",
     "output_type": "stream",
     "text": [
      "Количество уникальных значений столбца id - 99990\n",
      "['006OJ' '009eY' '00AfQ' ... 'zztWK' 'zzyhQ' 'zzzLH']\n",
      "____________________________________\n",
      "Количество уникальных значений столбца f0 - 100000\n",
      "[-1.40860531 -1.35177299 -1.30222711 ...  2.33375269  2.33707957\n",
      "  2.36233081]\n",
      "____________________________________\n",
      "Количество уникальных значений столбца f1 - 100000\n",
      "[-0.8482185  -0.84490792 -0.8205609  ...  1.33334561  1.33482762\n",
      "  1.34376933]\n",
      "____________________________________\n",
      "Количество уникальных значений столбца f2 - 100000\n",
      "[-12.08832812 -10.13834135 -10.13817115 ...  15.23032159  15.42837187\n",
      "  16.00379001]\n",
      "____________________________________\n",
      "Количество уникальных значений столбца product - 100000\n",
      "[0.00000000e+00 4.02152316e-03 6.11363631e-03 ... 1.85355615e+02\n",
      " 1.85362690e+02 1.85364347e+02]\n",
      "____________________________________\n"
     ]
    }
   ],
   "source": [
    "check_columns(df_1)"
   ]
  },
  {
   "cell_type": "code",
   "execution_count": 25,
   "id": "56c940ad",
   "metadata": {},
   "outputs": [
    {
     "name": "stdout",
     "output_type": "stream",
     "text": [
      "Количество уникальных значений столбца id - 99996\n",
      "['0022J' '003Gl' '003Vx' ... 'zzv4E' 'zzy2c' 'zzzvI']\n",
      "____________________________________\n",
      "Количество уникальных значений столбца f0 - 100000\n",
      "[-31.60957602 -27.82961614 -26.64625507 ...  28.93082879  29.25906208\n",
      "  29.42175461]\n",
      "____________________________________\n",
      "Количество уникальных значений столбца f1 - 100000\n",
      "[-26.35859801 -25.38962242 -25.2915177  ...  16.0268693   16.7371962\n",
      "  18.73406263]\n",
      "____________________________________\n",
      "Количество уникальных значений столбца f2 - 100000\n",
      "[-0.01814409 -0.01788668 -0.01768626 ...  5.01750345  5.01909142\n",
      "  5.01972056]\n",
      "____________________________________\n",
      "Количество уникальных значений столбца product - 12\n",
      "[  0.           3.17910258  26.95326103  30.13236361  53.90652206\n",
      "  57.08562465  80.85978309  84.03888568 107.81304413 110.99214671\n",
      " 134.76630516 137.94540774]\n",
      "____________________________________\n"
     ]
    }
   ],
   "source": [
    "check_columns(df_2)"
   ]
  },
  {
   "cell_type": "code",
   "execution_count": 26,
   "id": "4bea4efc",
   "metadata": {},
   "outputs": [
    {
     "name": "stdout",
     "output_type": "stream",
     "text": [
      "Количество уникальных значений столбца id - 99996\n",
      "['009Gl' '00AuD' '00CaL' ... 'zzqqy' 'zzsKd' 'zzz9h']\n",
      "____________________________________\n",
      "Количество уникальных значений столбца f0 - 100000\n",
      "[-8.76000362 -7.45058711 -7.18949804 ...  7.19461485  7.21552717\n",
      "  7.23826248]\n",
      "____________________________________\n",
      "Количество уникальных значений столбца f1 - 100000\n",
      "[-7.08401976 -6.74835677 -6.73299712 ...  7.10161842  7.76185714\n",
      "  7.84480127]\n",
      "____________________________________\n",
      "Количество уникальных значений столбца f2 - 100000\n",
      "[-11.97033454 -11.61169048 -11.40724351 ...  16.31301122  16.35764509\n",
      "  16.73940206]\n",
      "____________________________________\n",
      "Количество уникальных значений столбца product - 100000\n",
      "[0.00000000e+00 4.60600004e-03 9.20411196e-03 ... 1.90011722e+02\n",
      " 1.90013589e+02 1.90029838e+02]\n",
      "____________________________________\n"
     ]
    }
   ],
   "source": [
    "check_columns(df_3)"
   ]
  },
  {
   "cell_type": "markdown",
   "id": "8b39f9b2",
   "metadata": {},
   "source": [
    "В столбцах `f0`, `f1`, `f2` содержатся как положительные так и отрицательные данных, назначение и смысл этих столбцов нам не известен, но сказано, что данные значимы."
   ]
  },
  {
   "cell_type": "markdown",
   "id": "2bf05598",
   "metadata": {},
   "source": [
    "Рассмотрим неявные дубликаты по столбцу `id`."
   ]
  },
  {
   "cell_type": "code",
   "execution_count": 27,
   "id": "646b4a71",
   "metadata": {},
   "outputs": [
    {
     "data": {
      "text/plain": [
       "10"
      ]
     },
     "execution_count": 27,
     "metadata": {},
     "output_type": "execute_result"
    }
   ],
   "source": [
    "df_1.duplicated(subset = ['id']).sum()"
   ]
  },
  {
   "cell_type": "code",
   "execution_count": 28,
   "id": "96ccb338",
   "metadata": {},
   "outputs": [
    {
     "data": {
      "text/html": [
       "<div>\n",
       "<style scoped>\n",
       "    .dataframe tbody tr th:only-of-type {\n",
       "        vertical-align: middle;\n",
       "    }\n",
       "\n",
       "    .dataframe tbody tr th {\n",
       "        vertical-align: top;\n",
       "    }\n",
       "\n",
       "    .dataframe thead th {\n",
       "        text-align: right;\n",
       "    }\n",
       "</style>\n",
       "<table border=\"1\" class=\"dataframe\">\n",
       "  <thead>\n",
       "    <tr style=\"text-align: right;\">\n",
       "      <th></th>\n",
       "      <th>id</th>\n",
       "      <th>f0</th>\n",
       "      <th>f1</th>\n",
       "      <th>f2</th>\n",
       "      <th>product</th>\n",
       "    </tr>\n",
       "  </thead>\n",
       "  <tbody>\n",
       "    <tr>\n",
       "      <th>66136</th>\n",
       "      <td>74z30</td>\n",
       "      <td>1.084962</td>\n",
       "      <td>-0.312358</td>\n",
       "      <td>6.990771</td>\n",
       "      <td>127.643327</td>\n",
       "    </tr>\n",
       "    <tr>\n",
       "      <th>64022</th>\n",
       "      <td>74z30</td>\n",
       "      <td>0.741456</td>\n",
       "      <td>0.459229</td>\n",
       "      <td>5.153109</td>\n",
       "      <td>140.771492</td>\n",
       "    </tr>\n",
       "    <tr>\n",
       "      <th>51970</th>\n",
       "      <td>A5aEY</td>\n",
       "      <td>-0.180335</td>\n",
       "      <td>0.935548</td>\n",
       "      <td>-2.094773</td>\n",
       "      <td>33.020205</td>\n",
       "    </tr>\n",
       "    <tr>\n",
       "      <th>3389</th>\n",
       "      <td>A5aEY</td>\n",
       "      <td>-0.039949</td>\n",
       "      <td>0.156872</td>\n",
       "      <td>0.209861</td>\n",
       "      <td>89.249364</td>\n",
       "    </tr>\n",
       "    <tr>\n",
       "      <th>69163</th>\n",
       "      <td>AGS9W</td>\n",
       "      <td>-0.933795</td>\n",
       "      <td>0.116194</td>\n",
       "      <td>-3.655896</td>\n",
       "      <td>19.230453</td>\n",
       "    </tr>\n",
       "    <tr>\n",
       "      <th>42529</th>\n",
       "      <td>AGS9W</td>\n",
       "      <td>1.454747</td>\n",
       "      <td>-0.479651</td>\n",
       "      <td>0.683380</td>\n",
       "      <td>126.370504</td>\n",
       "    </tr>\n",
       "    <tr>\n",
       "      <th>931</th>\n",
       "      <td>HZww2</td>\n",
       "      <td>0.755284</td>\n",
       "      <td>0.368511</td>\n",
       "      <td>1.863211</td>\n",
       "      <td>30.681774</td>\n",
       "    </tr>\n",
       "    <tr>\n",
       "      <th>7530</th>\n",
       "      <td>HZww2</td>\n",
       "      <td>1.061194</td>\n",
       "      <td>-0.373969</td>\n",
       "      <td>10.430210</td>\n",
       "      <td>158.828695</td>\n",
       "    </tr>\n",
       "    <tr>\n",
       "      <th>63593</th>\n",
       "      <td>QcMuo</td>\n",
       "      <td>0.635635</td>\n",
       "      <td>-0.473422</td>\n",
       "      <td>0.862670</td>\n",
       "      <td>64.578675</td>\n",
       "    </tr>\n",
       "    <tr>\n",
       "      <th>1949</th>\n",
       "      <td>QcMuo</td>\n",
       "      <td>0.506563</td>\n",
       "      <td>-0.323775</td>\n",
       "      <td>-2.215583</td>\n",
       "      <td>75.496502</td>\n",
       "    </tr>\n",
       "    <tr>\n",
       "      <th>75715</th>\n",
       "      <td>Tdehs</td>\n",
       "      <td>0.112079</td>\n",
       "      <td>0.430296</td>\n",
       "      <td>3.218993</td>\n",
       "      <td>60.964018</td>\n",
       "    </tr>\n",
       "    <tr>\n",
       "      <th>21426</th>\n",
       "      <td>Tdehs</td>\n",
       "      <td>0.829407</td>\n",
       "      <td>0.298807</td>\n",
       "      <td>-0.049563</td>\n",
       "      <td>96.035308</td>\n",
       "    </tr>\n",
       "    <tr>\n",
       "      <th>92341</th>\n",
       "      <td>TtcGQ</td>\n",
       "      <td>0.110711</td>\n",
       "      <td>1.022689</td>\n",
       "      <td>0.911381</td>\n",
       "      <td>101.318008</td>\n",
       "    </tr>\n",
       "    <tr>\n",
       "      <th>60140</th>\n",
       "      <td>TtcGQ</td>\n",
       "      <td>0.569276</td>\n",
       "      <td>-0.104876</td>\n",
       "      <td>6.440215</td>\n",
       "      <td>85.350186</td>\n",
       "    </tr>\n",
       "    <tr>\n",
       "      <th>89582</th>\n",
       "      <td>bsk9y</td>\n",
       "      <td>0.398908</td>\n",
       "      <td>-0.400253</td>\n",
       "      <td>10.122376</td>\n",
       "      <td>163.433078</td>\n",
       "    </tr>\n",
       "    <tr>\n",
       "      <th>97785</th>\n",
       "      <td>bsk9y</td>\n",
       "      <td>0.378429</td>\n",
       "      <td>0.005837</td>\n",
       "      <td>0.160827</td>\n",
       "      <td>160.637302</td>\n",
       "    </tr>\n",
       "    <tr>\n",
       "      <th>41724</th>\n",
       "      <td>bxg6G</td>\n",
       "      <td>-0.823752</td>\n",
       "      <td>0.546319</td>\n",
       "      <td>3.630479</td>\n",
       "      <td>93.007798</td>\n",
       "    </tr>\n",
       "    <tr>\n",
       "      <th>1364</th>\n",
       "      <td>bxg6G</td>\n",
       "      <td>0.411645</td>\n",
       "      <td>0.856830</td>\n",
       "      <td>-3.653440</td>\n",
       "      <td>73.604260</td>\n",
       "    </tr>\n",
       "    <tr>\n",
       "      <th>16633</th>\n",
       "      <td>fiKDv</td>\n",
       "      <td>0.157341</td>\n",
       "      <td>1.028359</td>\n",
       "      <td>5.585586</td>\n",
       "      <td>95.817889</td>\n",
       "    </tr>\n",
       "    <tr>\n",
       "      <th>90815</th>\n",
       "      <td>fiKDv</td>\n",
       "      <td>0.049883</td>\n",
       "      <td>0.841313</td>\n",
       "      <td>6.394613</td>\n",
       "      <td>137.346586</td>\n",
       "    </tr>\n",
       "  </tbody>\n",
       "</table>\n",
       "</div>"
      ],
      "text/plain": [
       "          id        f0        f1         f2     product\n",
       "66136  74z30  1.084962 -0.312358   6.990771  127.643327\n",
       "64022  74z30  0.741456  0.459229   5.153109  140.771492\n",
       "51970  A5aEY -0.180335  0.935548  -2.094773   33.020205\n",
       "3389   A5aEY -0.039949  0.156872   0.209861   89.249364\n",
       "69163  AGS9W -0.933795  0.116194  -3.655896   19.230453\n",
       "42529  AGS9W  1.454747 -0.479651   0.683380  126.370504\n",
       "931    HZww2  0.755284  0.368511   1.863211   30.681774\n",
       "7530   HZww2  1.061194 -0.373969  10.430210  158.828695\n",
       "63593  QcMuo  0.635635 -0.473422   0.862670   64.578675\n",
       "1949   QcMuo  0.506563 -0.323775  -2.215583   75.496502\n",
       "75715  Tdehs  0.112079  0.430296   3.218993   60.964018\n",
       "21426  Tdehs  0.829407  0.298807  -0.049563   96.035308\n",
       "92341  TtcGQ  0.110711  1.022689   0.911381  101.318008\n",
       "60140  TtcGQ  0.569276 -0.104876   6.440215   85.350186\n",
       "89582  bsk9y  0.398908 -0.400253  10.122376  163.433078\n",
       "97785  bsk9y  0.378429  0.005837   0.160827  160.637302\n",
       "41724  bxg6G -0.823752  0.546319   3.630479   93.007798\n",
       "1364   bxg6G  0.411645  0.856830  -3.653440   73.604260\n",
       "16633  fiKDv  0.157341  1.028359   5.585586   95.817889\n",
       "90815  fiKDv  0.049883  0.841313   6.394613  137.346586"
      ]
     },
     "execution_count": 28,
     "metadata": {},
     "output_type": "execute_result"
    }
   ],
   "source": [
    "duplicate_filter = df_1['id'].duplicated(keep=False)\n",
    "df_1[duplicate_filter].sort_values('id').head(20)"
   ]
  },
  {
   "cell_type": "code",
   "execution_count": 29,
   "id": "dc5caaef",
   "metadata": {},
   "outputs": [
    {
     "data": {
      "text/plain": [
       "4"
      ]
     },
     "execution_count": 29,
     "metadata": {},
     "output_type": "execute_result"
    }
   ],
   "source": [
    "df_2.duplicated(subset = ['id']).sum()"
   ]
  },
  {
   "cell_type": "code",
   "execution_count": 30,
   "id": "5c67d196",
   "metadata": {},
   "outputs": [
    {
     "data": {
      "text/html": [
       "<div>\n",
       "<style scoped>\n",
       "    .dataframe tbody tr th:only-of-type {\n",
       "        vertical-align: middle;\n",
       "    }\n",
       "\n",
       "    .dataframe tbody tr th {\n",
       "        vertical-align: top;\n",
       "    }\n",
       "\n",
       "    .dataframe thead th {\n",
       "        text-align: right;\n",
       "    }\n",
       "</style>\n",
       "<table border=\"1\" class=\"dataframe\">\n",
       "  <thead>\n",
       "    <tr style=\"text-align: right;\">\n",
       "      <th></th>\n",
       "      <th>id</th>\n",
       "      <th>f0</th>\n",
       "      <th>f1</th>\n",
       "      <th>f2</th>\n",
       "      <th>product</th>\n",
       "    </tr>\n",
       "  </thead>\n",
       "  <tbody>\n",
       "    <tr>\n",
       "      <th>5849</th>\n",
       "      <td>5ltQ6</td>\n",
       "      <td>-3.435401</td>\n",
       "      <td>-12.296043</td>\n",
       "      <td>1.999796</td>\n",
       "      <td>57.085625</td>\n",
       "    </tr>\n",
       "    <tr>\n",
       "      <th>84461</th>\n",
       "      <td>5ltQ6</td>\n",
       "      <td>18.213839</td>\n",
       "      <td>2.191999</td>\n",
       "      <td>3.993869</td>\n",
       "      <td>107.813044</td>\n",
       "    </tr>\n",
       "    <tr>\n",
       "      <th>1305</th>\n",
       "      <td>LHZR0</td>\n",
       "      <td>11.170835</td>\n",
       "      <td>-1.945066</td>\n",
       "      <td>3.002872</td>\n",
       "      <td>80.859783</td>\n",
       "    </tr>\n",
       "    <tr>\n",
       "      <th>41906</th>\n",
       "      <td>LHZR0</td>\n",
       "      <td>-8.989672</td>\n",
       "      <td>-4.286607</td>\n",
       "      <td>2.009139</td>\n",
       "      <td>57.085625</td>\n",
       "    </tr>\n",
       "    <tr>\n",
       "      <th>2721</th>\n",
       "      <td>bfPNe</td>\n",
       "      <td>-9.494442</td>\n",
       "      <td>-5.463692</td>\n",
       "      <td>4.006042</td>\n",
       "      <td>110.992147</td>\n",
       "    </tr>\n",
       "    <tr>\n",
       "      <th>82178</th>\n",
       "      <td>bfPNe</td>\n",
       "      <td>-6.202799</td>\n",
       "      <td>-4.820045</td>\n",
       "      <td>2.995107</td>\n",
       "      <td>84.038886</td>\n",
       "    </tr>\n",
       "    <tr>\n",
       "      <th>47591</th>\n",
       "      <td>wt4Uk</td>\n",
       "      <td>-9.091098</td>\n",
       "      <td>-8.109279</td>\n",
       "      <td>-0.002314</td>\n",
       "      <td>3.179103</td>\n",
       "    </tr>\n",
       "    <tr>\n",
       "      <th>82873</th>\n",
       "      <td>wt4Uk</td>\n",
       "      <td>10.259972</td>\n",
       "      <td>-9.376355</td>\n",
       "      <td>4.994297</td>\n",
       "      <td>134.766305</td>\n",
       "    </tr>\n",
       "  </tbody>\n",
       "</table>\n",
       "</div>"
      ],
      "text/plain": [
       "          id         f0         f1        f2     product\n",
       "5849   5ltQ6  -3.435401 -12.296043  1.999796   57.085625\n",
       "84461  5ltQ6  18.213839   2.191999  3.993869  107.813044\n",
       "1305   LHZR0  11.170835  -1.945066  3.002872   80.859783\n",
       "41906  LHZR0  -8.989672  -4.286607  2.009139   57.085625\n",
       "2721   bfPNe  -9.494442  -5.463692  4.006042  110.992147\n",
       "82178  bfPNe  -6.202799  -4.820045  2.995107   84.038886\n",
       "47591  wt4Uk  -9.091098  -8.109279 -0.002314    3.179103\n",
       "82873  wt4Uk  10.259972  -9.376355  4.994297  134.766305"
      ]
     },
     "execution_count": 30,
     "metadata": {},
     "output_type": "execute_result"
    }
   ],
   "source": [
    "duplicate_filter = df_2['id'].duplicated(keep=False)\n",
    "df_2[duplicate_filter].sort_values('id').head(8)"
   ]
  },
  {
   "cell_type": "code",
   "execution_count": 31,
   "id": "20fdc769",
   "metadata": {},
   "outputs": [
    {
     "data": {
      "text/plain": [
       "4"
      ]
     },
     "execution_count": 31,
     "metadata": {},
     "output_type": "execute_result"
    }
   ],
   "source": [
    "df_3.duplicated(subset = ['id']).sum()"
   ]
  },
  {
   "cell_type": "code",
   "execution_count": 32,
   "id": "d91693da",
   "metadata": {},
   "outputs": [
    {
     "data": {
      "text/html": [
       "<div>\n",
       "<style scoped>\n",
       "    .dataframe tbody tr th:only-of-type {\n",
       "        vertical-align: middle;\n",
       "    }\n",
       "\n",
       "    .dataframe tbody tr th {\n",
       "        vertical-align: top;\n",
       "    }\n",
       "\n",
       "    .dataframe thead th {\n",
       "        text-align: right;\n",
       "    }\n",
       "</style>\n",
       "<table border=\"1\" class=\"dataframe\">\n",
       "  <thead>\n",
       "    <tr style=\"text-align: right;\">\n",
       "      <th></th>\n",
       "      <th>id</th>\n",
       "      <th>f0</th>\n",
       "      <th>f1</th>\n",
       "      <th>f2</th>\n",
       "      <th>product</th>\n",
       "    </tr>\n",
       "  </thead>\n",
       "  <tbody>\n",
       "    <tr>\n",
       "      <th>45404</th>\n",
       "      <td>KUPhW</td>\n",
       "      <td>0.231846</td>\n",
       "      <td>-1.698941</td>\n",
       "      <td>4.990775</td>\n",
       "      <td>11.716299</td>\n",
       "    </tr>\n",
       "    <tr>\n",
       "      <th>55967</th>\n",
       "      <td>KUPhW</td>\n",
       "      <td>1.211150</td>\n",
       "      <td>3.176408</td>\n",
       "      <td>5.543540</td>\n",
       "      <td>132.831802</td>\n",
       "    </tr>\n",
       "    <tr>\n",
       "      <th>11449</th>\n",
       "      <td>VF7Jo</td>\n",
       "      <td>2.122656</td>\n",
       "      <td>-0.858275</td>\n",
       "      <td>5.746001</td>\n",
       "      <td>181.716817</td>\n",
       "    </tr>\n",
       "    <tr>\n",
       "      <th>49564</th>\n",
       "      <td>VF7Jo</td>\n",
       "      <td>-0.883115</td>\n",
       "      <td>0.560537</td>\n",
       "      <td>0.723601</td>\n",
       "      <td>136.233420</td>\n",
       "    </tr>\n",
       "    <tr>\n",
       "      <th>44378</th>\n",
       "      <td>Vcm5J</td>\n",
       "      <td>-1.229484</td>\n",
       "      <td>-2.439204</td>\n",
       "      <td>1.222909</td>\n",
       "      <td>137.968290</td>\n",
       "    </tr>\n",
       "    <tr>\n",
       "      <th>95090</th>\n",
       "      <td>Vcm5J</td>\n",
       "      <td>2.587702</td>\n",
       "      <td>1.986875</td>\n",
       "      <td>2.482245</td>\n",
       "      <td>92.327572</td>\n",
       "    </tr>\n",
       "    <tr>\n",
       "      <th>28039</th>\n",
       "      <td>xCHr8</td>\n",
       "      <td>1.633027</td>\n",
       "      <td>0.368135</td>\n",
       "      <td>-2.378367</td>\n",
       "      <td>6.120525</td>\n",
       "    </tr>\n",
       "    <tr>\n",
       "      <th>43233</th>\n",
       "      <td>xCHr8</td>\n",
       "      <td>-0.847066</td>\n",
       "      <td>2.101796</td>\n",
       "      <td>5.597130</td>\n",
       "      <td>184.388641</td>\n",
       "    </tr>\n",
       "  </tbody>\n",
       "</table>\n",
       "</div>"
      ],
      "text/plain": [
       "          id        f0        f1        f2     product\n",
       "45404  KUPhW  0.231846 -1.698941  4.990775   11.716299\n",
       "55967  KUPhW  1.211150  3.176408  5.543540  132.831802\n",
       "11449  VF7Jo  2.122656 -0.858275  5.746001  181.716817\n",
       "49564  VF7Jo -0.883115  0.560537  0.723601  136.233420\n",
       "44378  Vcm5J -1.229484 -2.439204  1.222909  137.968290\n",
       "95090  Vcm5J  2.587702  1.986875  2.482245   92.327572\n",
       "28039  xCHr8  1.633027  0.368135 -2.378367    6.120525\n",
       "43233  xCHr8 -0.847066  2.101796  5.597130  184.388641"
      ]
     },
     "execution_count": 32,
     "metadata": {},
     "output_type": "execute_result"
    }
   ],
   "source": [
    "duplicate_filter = df_3['id'].duplicated(keep=False)\n",
    "df_3[duplicate_filter].sort_values('id').head(8)"
   ]
  },
  {
   "cell_type": "markdown",
   "id": "e47eea59",
   "metadata": {},
   "source": [
    "Определили наличие дубликатов в датафреймах по столбцу `id` скважины (первый регион - 10, второй и третий по 4 дубликата по идентификатору скважины). Кроме `id` остальные данные отличаются между собой. Причиной их возникновения может быть использование разных методик и глубины бурения или еще чего-либо. Возможно, по этому у некоторых скважин есть по два наблюдения с разными параметрами и разными данными о возможном объеме запасов на разных горизонтах многопластового месторождения.\n",
    "\n",
    "Так как все остальные данные разнятся, удалять такие дубликаты не будем."
   ]
  },
  {
   "cell_type": "markdown",
   "id": "569c0cce",
   "metadata": {},
   "source": [
    "<a id = 'df_cut'></a>"
   ]
  },
  {
   "cell_type": "markdown",
   "id": "9b566c2a",
   "metadata": {},
   "source": [
    "### Подготовка данных к работе"
   ]
  },
  {
   "cell_type": "markdown",
   "id": "0d797475",
   "metadata": {},
   "source": [
    "Удалим из каждого датафрейма столбец `id`. Предсказывать данные по уникальному номеру скважины мы не будем."
   ]
  },
  {
   "cell_type": "code",
   "execution_count": 33,
   "id": "78851644",
   "metadata": {},
   "outputs": [],
   "source": [
    "df_1 = df_1.drop(['id'], axis=1)\n",
    "df_2 = df_2.drop(['id'], axis=1)\n",
    "df_3 = df_3.drop(['id'], axis=1)"
   ]
  },
  {
   "cell_type": "markdown",
   "id": "1e640634",
   "metadata": {},
   "source": [
    "За целевой признак примем столбец `product`.\n",
    "\n",
    "На первом шаге определяемся класс задачи. Это можно сделать, проанализировав целевую переменную. Так как данные целевой переменной представляют собой количественный тип, то класс задачи представляет собой регрессию. \n",
    "\n",
    "Рассмотрим целевой признак, нецелевые признаки, их влияние друг на друга, распределение данных."
   ]
  },
  {
   "cell_type": "markdown",
   "id": "4f4e64ed",
   "metadata": {},
   "source": [
    "В столбце `product` наблюдаются нулевые значения. Рассмотрм объем этих значений в каждом датафрейме, попробуем определить их смысл или причину появления."
   ]
  },
  {
   "cell_type": "code",
   "execution_count": 34,
   "id": "9f6609e8",
   "metadata": {},
   "outputs": [
    {
     "name": "stdout",
     "output_type": "stream",
     "text": [
      "Количество нулевых значений - 1\n",
      "Процент нулевых значений - 1e-05\n"
     ]
    }
   ],
   "source": [
    "check_product_zeros(df_1, \"product\")"
   ]
  },
  {
   "cell_type": "code",
   "execution_count": 35,
   "id": "b3f8c250",
   "metadata": {},
   "outputs": [
    {
     "name": "stdout",
     "output_type": "stream",
     "text": [
      "Количество нулевых значений - 8235\n",
      "Процент нулевых значений - 0.08235\n"
     ]
    }
   ],
   "source": [
    "check_product_zeros(df_2, \"product\")"
   ]
  },
  {
   "cell_type": "code",
   "execution_count": 36,
   "id": "bdd66ed4",
   "metadata": {},
   "outputs": [
    {
     "name": "stdout",
     "output_type": "stream",
     "text": [
      "Количество нулевых значений - 1\n",
      "Процент нулевых значений - 1e-05\n"
     ]
    }
   ],
   "source": [
    "check_product_zeros(df_3, \"product\")"
   ]
  },
  {
   "cell_type": "markdown",
   "id": "b9fd09fe",
   "metadata": {},
   "source": [
    "В первом и третьем датафрейме по одному объекту с нулевым значением, во втором 8% объектов с нулевым значением.\n",
    "\n",
    "Рассмотрим данные подробнее."
   ]
  },
  {
   "cell_type": "code",
   "execution_count": 37,
   "id": "8a27a5b5",
   "metadata": {},
   "outputs": [
    {
     "data": {
      "text/html": [
       "<div>\n",
       "<style scoped>\n",
       "    .dataframe tbody tr th:only-of-type {\n",
       "        vertical-align: middle;\n",
       "    }\n",
       "\n",
       "    .dataframe tbody tr th {\n",
       "        vertical-align: top;\n",
       "    }\n",
       "\n",
       "    .dataframe thead th {\n",
       "        text-align: right;\n",
       "    }\n",
       "</style>\n",
       "<table border=\"1\" class=\"dataframe\">\n",
       "  <thead>\n",
       "    <tr style=\"text-align: right;\">\n",
       "      <th></th>\n",
       "      <th>f0</th>\n",
       "      <th>f1</th>\n",
       "      <th>f2</th>\n",
       "      <th>product</th>\n",
       "    </tr>\n",
       "  </thead>\n",
       "  <tbody>\n",
       "    <tr>\n",
       "      <th>57263</th>\n",
       "      <td>-0.702064</td>\n",
       "      <td>0.375992</td>\n",
       "      <td>0.236572</td>\n",
       "      <td>0.0</td>\n",
       "    </tr>\n",
       "  </tbody>\n",
       "</table>\n",
       "</div>"
      ],
      "text/plain": [
       "             f0        f1        f2  product\n",
       "57263 -0.702064  0.375992  0.236572      0.0"
      ]
     },
     "execution_count": 37,
     "metadata": {},
     "output_type": "execute_result"
    }
   ],
   "source": [
    "df_1[df_1['product'] == 0]"
   ]
  },
  {
   "cell_type": "code",
   "execution_count": 38,
   "id": "beb5faae",
   "metadata": {},
   "outputs": [
    {
     "data": {
      "text/html": [
       "<div>\n",
       "<style scoped>\n",
       "    .dataframe tbody tr th:only-of-type {\n",
       "        vertical-align: middle;\n",
       "    }\n",
       "\n",
       "    .dataframe tbody tr th {\n",
       "        vertical-align: top;\n",
       "    }\n",
       "\n",
       "    .dataframe thead th {\n",
       "        text-align: right;\n",
       "    }\n",
       "</style>\n",
       "<table border=\"1\" class=\"dataframe\">\n",
       "  <thead>\n",
       "    <tr style=\"text-align: right;\">\n",
       "      <th></th>\n",
       "      <th>f0</th>\n",
       "      <th>f1</th>\n",
       "      <th>f2</th>\n",
       "      <th>product</th>\n",
       "    </tr>\n",
       "  </thead>\n",
       "  <tbody>\n",
       "    <tr>\n",
       "      <th>11</th>\n",
       "      <td>16.320755</td>\n",
       "      <td>-0.562946</td>\n",
       "      <td>-0.001783</td>\n",
       "      <td>0.0</td>\n",
       "    </tr>\n",
       "    <tr>\n",
       "      <th>13</th>\n",
       "      <td>6.695604</td>\n",
       "      <td>-0.749449</td>\n",
       "      <td>-0.007630</td>\n",
       "      <td>0.0</td>\n",
       "    </tr>\n",
       "    <tr>\n",
       "      <th>62</th>\n",
       "      <td>21.418478</td>\n",
       "      <td>-5.134490</td>\n",
       "      <td>-0.002836</td>\n",
       "      <td>0.0</td>\n",
       "    </tr>\n",
       "    <tr>\n",
       "      <th>63</th>\n",
       "      <td>6.822701</td>\n",
       "      <td>3.104979</td>\n",
       "      <td>-0.000723</td>\n",
       "      <td>0.0</td>\n",
       "    </tr>\n",
       "    <tr>\n",
       "      <th>77</th>\n",
       "      <td>6.750150</td>\n",
       "      <td>-11.893512</td>\n",
       "      <td>-0.001601</td>\n",
       "      <td>0.0</td>\n",
       "    </tr>\n",
       "    <tr>\n",
       "      <th>...</th>\n",
       "      <td>...</td>\n",
       "      <td>...</td>\n",
       "      <td>...</td>\n",
       "      <td>...</td>\n",
       "    </tr>\n",
       "    <tr>\n",
       "      <th>99936</th>\n",
       "      <td>5.085749</td>\n",
       "      <td>-3.980305</td>\n",
       "      <td>0.005063</td>\n",
       "      <td>0.0</td>\n",
       "    </tr>\n",
       "    <tr>\n",
       "      <th>99948</th>\n",
       "      <td>8.277805</td>\n",
       "      <td>-9.178818</td>\n",
       "      <td>0.003275</td>\n",
       "      <td>0.0</td>\n",
       "    </tr>\n",
       "    <tr>\n",
       "      <th>99956</th>\n",
       "      <td>13.343983</td>\n",
       "      <td>-1.290200</td>\n",
       "      <td>0.005980</td>\n",
       "      <td>0.0</td>\n",
       "    </tr>\n",
       "    <tr>\n",
       "      <th>99961</th>\n",
       "      <td>13.854163</td>\n",
       "      <td>-11.528089</td>\n",
       "      <td>-0.005556</td>\n",
       "      <td>0.0</td>\n",
       "    </tr>\n",
       "    <tr>\n",
       "      <th>99973</th>\n",
       "      <td>12.698645</td>\n",
       "      <td>-4.384673</td>\n",
       "      <td>-0.002600</td>\n",
       "      <td>0.0</td>\n",
       "    </tr>\n",
       "  </tbody>\n",
       "</table>\n",
       "<p>8235 rows × 4 columns</p>\n",
       "</div>"
      ],
      "text/plain": [
       "              f0         f1        f2  product\n",
       "11     16.320755  -0.562946 -0.001783      0.0\n",
       "13      6.695604  -0.749449 -0.007630      0.0\n",
       "62     21.418478  -5.134490 -0.002836      0.0\n",
       "63      6.822701   3.104979 -0.000723      0.0\n",
       "77      6.750150 -11.893512 -0.001601      0.0\n",
       "...          ...        ...       ...      ...\n",
       "99936   5.085749  -3.980305  0.005063      0.0\n",
       "99948   8.277805  -9.178818  0.003275      0.0\n",
       "99956  13.343983  -1.290200  0.005980      0.0\n",
       "99961  13.854163 -11.528089 -0.005556      0.0\n",
       "99973  12.698645  -4.384673 -0.002600      0.0\n",
       "\n",
       "[8235 rows x 4 columns]"
      ]
     },
     "execution_count": 38,
     "metadata": {},
     "output_type": "execute_result"
    }
   ],
   "source": [
    "df_2[df_2['product'] == 0]"
   ]
  },
  {
   "cell_type": "code",
   "execution_count": 39,
   "id": "39399b2b",
   "metadata": {},
   "outputs": [
    {
     "data": {
      "text/html": [
       "<div>\n",
       "<style scoped>\n",
       "    .dataframe tbody tr th:only-of-type {\n",
       "        vertical-align: middle;\n",
       "    }\n",
       "\n",
       "    .dataframe tbody tr th {\n",
       "        vertical-align: top;\n",
       "    }\n",
       "\n",
       "    .dataframe thead th {\n",
       "        text-align: right;\n",
       "    }\n",
       "</style>\n",
       "<table border=\"1\" class=\"dataframe\">\n",
       "  <thead>\n",
       "    <tr style=\"text-align: right;\">\n",
       "      <th></th>\n",
       "      <th>f0</th>\n",
       "      <th>f1</th>\n",
       "      <th>f2</th>\n",
       "      <th>product</th>\n",
       "    </tr>\n",
       "  </thead>\n",
       "  <tbody>\n",
       "    <tr>\n",
       "      <th>68149</th>\n",
       "      <td>-0.865596</td>\n",
       "      <td>-1.615247</td>\n",
       "      <td>-4.126441</td>\n",
       "      <td>0.0</td>\n",
       "    </tr>\n",
       "  </tbody>\n",
       "</table>\n",
       "</div>"
      ],
      "text/plain": [
       "             f0        f1        f2  product\n",
       "68149 -0.865596 -1.615247 -4.126441      0.0"
      ]
     },
     "execution_count": 39,
     "metadata": {},
     "output_type": "execute_result"
    }
   ],
   "source": [
    "df_3[df_3['product'] == 0]"
   ]
  },
  {
   "cell_type": "markdown",
   "id": "feab2b73",
   "metadata": {},
   "source": [
    "Каких-либо характерных признаков, объясняющих проявление нулевых значений не наблюдается, данные в стобцах-признаках заполнены.\n",
    "\n",
    "Рассмотрим гисмтограмму распределения данных по столбцу `product` по каждому региону исследования."
   ]
  },
  {
   "cell_type": "code",
   "execution_count": 40,
   "id": "00f2be8f",
   "metadata": {},
   "outputs": [
    {
     "data": {
      "image/png": "[encoded data removed]",
      "text/plain": [
       "<Figure size 1000x500 with 1 Axes>"
      ]
     },
     "metadata": {},
     "output_type": "display_data"
    },
    {
     "data": {
      "image/png": "[encoded data removed]",
      "text/plain": [
       "<Figure size 1000x500 with 1 Axes>"
      ]
     },
     "metadata": {},
     "output_type": "display_data"
    },
    {
     "data": {
      "image/png": "[encoded data removed]",
      "text/plain": [
       "<Figure size 1000x500 with 1 Axes>"
      ]
     },
     "metadata": {},
     "output_type": "display_data"
    }
   ],
   "source": [
    "product_hist(df_1['product'], 50, 190, 4000)\n",
    "product_hist(df_2['product'], 50, 150, 10000)\n",
    "product_hist(df_3['product'], 50, 200, 4000)"
   ]
  },
  {
   "cell_type": "markdown",
   "id": "4059018b",
   "metadata": {},
   "source": [
    "Во втором регионе около 8,2% месторождений не имело значения в столбце `product`. При сравнении с такими же значениями из первого и третьего региона можно сдалать следующие вывод: данные были утеряны, не было исследовано количество барелей нефти и возможно самое верное - скважины пусты или найденные запасы очень низкие .\n",
    "\n",
    "По гистограммам можно понять, что у первого и третьего региона наспределение скважин близкое к нормальному. Во втором регионе данные имеют странное распределение: с диапозом запасов от 0 до 5 - 10 баррелей с шагом по 15-20 равномерно распределены 100000 значений. Данные скорей всего представляют группировку по обьему запасов по 6 группам. Если посмотреть на гистограммы 1 и 3 региона, то тоже вырисовыется по рядка 6-8 групп по объемам запасов. Возможно переведем в датафреймах 1 и 3 данные по столбцу `product` в аналогичные группы."
   ]
  },
  {
   "cell_type": "markdown",
   "id": "518de634",
   "metadata": {},
   "source": [
    "Посмотрим на распределение признаков."
   ]
  },
  {
   "cell_type": "code",
   "execution_count": 41,
   "id": "a63ebe34",
   "metadata": {},
   "outputs": [
    {
     "data": {
      "image/png": "[encoded data removed]",
      "text/plain": [
       "<Figure size 1500x1000 with 4 Axes>"
      ]
     },
     "metadata": {},
     "output_type": "display_data"
    }
   ],
   "source": [
    "df_1.hist(bins=50, figsize=(15,10), color='c', edgecolor='black', linewidth=1)\n",
    "plt.show()"
   ]
  },
  {
   "cell_type": "code",
   "execution_count": 42,
   "id": "c0b0a2df",
   "metadata": {},
   "outputs": [
    {
     "data": {
      "image/png": "[encoded data removed]",
      "text/plain": [
       "<Figure size 1500x1000 with 4 Axes>"
      ]
     },
     "metadata": {},
     "output_type": "display_data"
    }
   ],
   "source": [
    "df_2.hist(bins=50, figsize=(15,10), color='r', edgecolor='black', linewidth=1)\n",
    "plt.show()"
   ]
  },
  {
   "cell_type": "code",
   "execution_count": 43,
   "id": "429df00f",
   "metadata": {},
   "outputs": [
    {
     "data": {
      "image/png": "[encoded data removed]",
      "text/plain": [
       "<Figure size 1500x1000 with 4 Axes>"
      ]
     },
     "metadata": {},
     "output_type": "display_data"
    }
   ],
   "source": [
    "df_1.hist(bins=50, figsize=(15,10), color='b', edgecolor='black', linewidth=1)\n",
    "plt.show()"
   ]
  },
  {
   "cell_type": "markdown",
   "id": "5a685d92",
   "metadata": {},
   "source": [
    "В двух датафреймах (`df_1` и `df_3`) мы наблюдаем одниковое распределение данных по столбцам. Признаки `f0` и `f1` имеют многомодальное распределение, признак `f2` - распределен нормально.\n",
    "\n",
    "Во втором датафрейме (`df_2`), так же как и столбец `product`, распределение столбца `f2` выглядит \"рафинированно\", то есть скорее всего данны подверглись доп. обработке. Данные как будто бы разделили то же на 6 категорий. Признак `f0` имеет бимодальное распределение, признак `f1` - нормальное."
   ]
  },
  {
   "cell_type": "markdown",
   "id": "4166fc4d",
   "metadata": {},
   "source": [
    "Выведем некоторые статистические данные по столбцам датафреймов."
   ]
  },
  {
   "cell_type": "code",
   "execution_count": 44,
   "id": "2721eb91",
   "metadata": {},
   "outputs": [
    {
     "data": {
      "text/html": [
       "<div>\n",
       "<style scoped>\n",
       "    .dataframe tbody tr th:only-of-type {\n",
       "        vertical-align: middle;\n",
       "    }\n",
       "\n",
       "    .dataframe tbody tr th {\n",
       "        vertical-align: top;\n",
       "    }\n",
       "\n",
       "    .dataframe thead th {\n",
       "        text-align: right;\n",
       "    }\n",
       "</style>\n",
       "<table border=\"1\" class=\"dataframe\">\n",
       "  <thead>\n",
       "    <tr style=\"text-align: right;\">\n",
       "      <th></th>\n",
       "      <th>f0</th>\n",
       "      <th>f1</th>\n",
       "      <th>f2</th>\n",
       "      <th>product</th>\n",
       "    </tr>\n",
       "  </thead>\n",
       "  <tbody>\n",
       "    <tr>\n",
       "      <th>count</th>\n",
       "      <td>100000.000000</td>\n",
       "      <td>100000.000000</td>\n",
       "      <td>100000.000000</td>\n",
       "      <td>100000.000000</td>\n",
       "    </tr>\n",
       "    <tr>\n",
       "      <th>mean</th>\n",
       "      <td>0.500419</td>\n",
       "      <td>0.250143</td>\n",
       "      <td>2.502647</td>\n",
       "      <td>92.500000</td>\n",
       "    </tr>\n",
       "    <tr>\n",
       "      <th>std</th>\n",
       "      <td>0.871832</td>\n",
       "      <td>0.504433</td>\n",
       "      <td>3.248248</td>\n",
       "      <td>44.288691</td>\n",
       "    </tr>\n",
       "    <tr>\n",
       "      <th>min</th>\n",
       "      <td>-1.408605</td>\n",
       "      <td>-0.848218</td>\n",
       "      <td>-12.088328</td>\n",
       "      <td>0.000000</td>\n",
       "    </tr>\n",
       "    <tr>\n",
       "      <th>25%</th>\n",
       "      <td>-0.072580</td>\n",
       "      <td>-0.200881</td>\n",
       "      <td>0.287748</td>\n",
       "      <td>56.497507</td>\n",
       "    </tr>\n",
       "    <tr>\n",
       "      <th>50%</th>\n",
       "      <td>0.502360</td>\n",
       "      <td>0.250252</td>\n",
       "      <td>2.515969</td>\n",
       "      <td>91.849972</td>\n",
       "    </tr>\n",
       "    <tr>\n",
       "      <th>75%</th>\n",
       "      <td>1.073581</td>\n",
       "      <td>0.700646</td>\n",
       "      <td>4.715088</td>\n",
       "      <td>128.564089</td>\n",
       "    </tr>\n",
       "    <tr>\n",
       "      <th>max</th>\n",
       "      <td>2.362331</td>\n",
       "      <td>1.343769</td>\n",
       "      <td>16.003790</td>\n",
       "      <td>185.364347</td>\n",
       "    </tr>\n",
       "  </tbody>\n",
       "</table>\n",
       "</div>"
      ],
      "text/plain": [
       "                  f0             f1             f2        product\n",
       "count  100000.000000  100000.000000  100000.000000  100000.000000\n",
       "mean        0.500419       0.250143       2.502647      92.500000\n",
       "std         0.871832       0.504433       3.248248      44.288691\n",
       "min        -1.408605      -0.848218     -12.088328       0.000000\n",
       "25%        -0.072580      -0.200881       0.287748      56.497507\n",
       "50%         0.502360       0.250252       2.515969      91.849972\n",
       "75%         1.073581       0.700646       4.715088     128.564089\n",
       "max         2.362331       1.343769      16.003790     185.364347"
      ]
     },
     "execution_count": 44,
     "metadata": {},
     "output_type": "execute_result"
    }
   ],
   "source": [
    "df_1.describe()"
   ]
  },
  {
   "cell_type": "code",
   "execution_count": 45,
   "id": "445df045",
   "metadata": {},
   "outputs": [
    {
     "data": {
      "text/html": [
       "<div>\n",
       "<style scoped>\n",
       "    .dataframe tbody tr th:only-of-type {\n",
       "        vertical-align: middle;\n",
       "    }\n",
       "\n",
       "    .dataframe tbody tr th {\n",
       "        vertical-align: top;\n",
       "    }\n",
       "\n",
       "    .dataframe thead th {\n",
       "        text-align: right;\n",
       "    }\n",
       "</style>\n",
       "<table border=\"1\" class=\"dataframe\">\n",
       "  <thead>\n",
       "    <tr style=\"text-align: right;\">\n",
       "      <th></th>\n",
       "      <th>f0</th>\n",
       "      <th>f1</th>\n",
       "      <th>f2</th>\n",
       "      <th>product</th>\n",
       "    </tr>\n",
       "  </thead>\n",
       "  <tbody>\n",
       "    <tr>\n",
       "      <th>count</th>\n",
       "      <td>100000.000000</td>\n",
       "      <td>100000.000000</td>\n",
       "      <td>100000.000000</td>\n",
       "      <td>100000.000000</td>\n",
       "    </tr>\n",
       "    <tr>\n",
       "      <th>mean</th>\n",
       "      <td>1.141296</td>\n",
       "      <td>-4.796579</td>\n",
       "      <td>2.494541</td>\n",
       "      <td>68.825000</td>\n",
       "    </tr>\n",
       "    <tr>\n",
       "      <th>std</th>\n",
       "      <td>8.965932</td>\n",
       "      <td>5.119872</td>\n",
       "      <td>1.703572</td>\n",
       "      <td>45.944423</td>\n",
       "    </tr>\n",
       "    <tr>\n",
       "      <th>min</th>\n",
       "      <td>-31.609576</td>\n",
       "      <td>-26.358598</td>\n",
       "      <td>-0.018144</td>\n",
       "      <td>0.000000</td>\n",
       "    </tr>\n",
       "    <tr>\n",
       "      <th>25%</th>\n",
       "      <td>-6.298551</td>\n",
       "      <td>-8.267985</td>\n",
       "      <td>1.000021</td>\n",
       "      <td>26.953261</td>\n",
       "    </tr>\n",
       "    <tr>\n",
       "      <th>50%</th>\n",
       "      <td>1.153055</td>\n",
       "      <td>-4.813172</td>\n",
       "      <td>2.011479</td>\n",
       "      <td>57.085625</td>\n",
       "    </tr>\n",
       "    <tr>\n",
       "      <th>75%</th>\n",
       "      <td>8.621015</td>\n",
       "      <td>-1.332816</td>\n",
       "      <td>3.999904</td>\n",
       "      <td>107.813044</td>\n",
       "    </tr>\n",
       "    <tr>\n",
       "      <th>max</th>\n",
       "      <td>29.421755</td>\n",
       "      <td>18.734063</td>\n",
       "      <td>5.019721</td>\n",
       "      <td>137.945408</td>\n",
       "    </tr>\n",
       "  </tbody>\n",
       "</table>\n",
       "</div>"
      ],
      "text/plain": [
       "                  f0             f1             f2        product\n",
       "count  100000.000000  100000.000000  100000.000000  100000.000000\n",
       "mean        1.141296      -4.796579       2.494541      68.825000\n",
       "std         8.965932       5.119872       1.703572      45.944423\n",
       "min       -31.609576     -26.358598      -0.018144       0.000000\n",
       "25%        -6.298551      -8.267985       1.000021      26.953261\n",
       "50%         1.153055      -4.813172       2.011479      57.085625\n",
       "75%         8.621015      -1.332816       3.999904     107.813044\n",
       "max        29.421755      18.734063       5.019721     137.945408"
      ]
     },
     "execution_count": 45,
     "metadata": {},
     "output_type": "execute_result"
    }
   ],
   "source": [
    "df_2.describe()"
   ]
  },
  {
   "cell_type": "code",
   "execution_count": 46,
   "id": "e5984ed7",
   "metadata": {},
   "outputs": [
    {
     "data": {
      "text/html": [
       "<div>\n",
       "<style scoped>\n",
       "    .dataframe tbody tr th:only-of-type {\n",
       "        vertical-align: middle;\n",
       "    }\n",
       "\n",
       "    .dataframe tbody tr th {\n",
       "        vertical-align: top;\n",
       "    }\n",
       "\n",
       "    .dataframe thead th {\n",
       "        text-align: right;\n",
       "    }\n",
       "</style>\n",
       "<table border=\"1\" class=\"dataframe\">\n",
       "  <thead>\n",
       "    <tr style=\"text-align: right;\">\n",
       "      <th></th>\n",
       "      <th>f0</th>\n",
       "      <th>f1</th>\n",
       "      <th>f2</th>\n",
       "      <th>product</th>\n",
       "    </tr>\n",
       "  </thead>\n",
       "  <tbody>\n",
       "    <tr>\n",
       "      <th>count</th>\n",
       "      <td>100000.000000</td>\n",
       "      <td>100000.000000</td>\n",
       "      <td>100000.000000</td>\n",
       "      <td>100000.000000</td>\n",
       "    </tr>\n",
       "    <tr>\n",
       "      <th>mean</th>\n",
       "      <td>0.002023</td>\n",
       "      <td>-0.002081</td>\n",
       "      <td>2.495128</td>\n",
       "      <td>95.000000</td>\n",
       "    </tr>\n",
       "    <tr>\n",
       "      <th>std</th>\n",
       "      <td>1.732045</td>\n",
       "      <td>1.730417</td>\n",
       "      <td>3.473445</td>\n",
       "      <td>44.749921</td>\n",
       "    </tr>\n",
       "    <tr>\n",
       "      <th>min</th>\n",
       "      <td>-8.760004</td>\n",
       "      <td>-7.084020</td>\n",
       "      <td>-11.970335</td>\n",
       "      <td>0.000000</td>\n",
       "    </tr>\n",
       "    <tr>\n",
       "      <th>25%</th>\n",
       "      <td>-1.162288</td>\n",
       "      <td>-1.174820</td>\n",
       "      <td>0.130359</td>\n",
       "      <td>59.450441</td>\n",
       "    </tr>\n",
       "    <tr>\n",
       "      <th>50%</th>\n",
       "      <td>0.009424</td>\n",
       "      <td>-0.009482</td>\n",
       "      <td>2.484236</td>\n",
       "      <td>94.925613</td>\n",
       "    </tr>\n",
       "    <tr>\n",
       "      <th>75%</th>\n",
       "      <td>1.158535</td>\n",
       "      <td>1.163678</td>\n",
       "      <td>4.858794</td>\n",
       "      <td>130.595027</td>\n",
       "    </tr>\n",
       "    <tr>\n",
       "      <th>max</th>\n",
       "      <td>7.238262</td>\n",
       "      <td>7.844801</td>\n",
       "      <td>16.739402</td>\n",
       "      <td>190.029838</td>\n",
       "    </tr>\n",
       "  </tbody>\n",
       "</table>\n",
       "</div>"
      ],
      "text/plain": [
       "                  f0             f1             f2        product\n",
       "count  100000.000000  100000.000000  100000.000000  100000.000000\n",
       "mean        0.002023      -0.002081       2.495128      95.000000\n",
       "std         1.732045       1.730417       3.473445      44.749921\n",
       "min        -8.760004      -7.084020     -11.970335       0.000000\n",
       "25%        -1.162288      -1.174820       0.130359      59.450441\n",
       "50%         0.009424      -0.009482       2.484236      94.925613\n",
       "75%         1.158535       1.163678       4.858794     130.595027\n",
       "max         7.238262       7.844801      16.739402     190.029838"
      ]
     },
     "execution_count": 46,
     "metadata": {},
     "output_type": "execute_result"
    }
   ],
   "source": [
    "df_3.describe()"
   ]
  },
  {
   "cell_type": "markdown",
   "id": "d03e0086",
   "metadata": {},
   "source": [
    "Визуализируем полученные данные.\n",
    "\n",
    "Логистическая регрессия чувствительна к выбросам, поэтому их обработка является очень важным шагом подготовки данных.\n",
    "\n",
    "Расмотрим, есть ли в данных выбросы и в каком количестве."
   ]
  },
  {
   "cell_type": "code",
   "execution_count": 47,
   "id": "2c66f81a",
   "metadata": {},
   "outputs": [
    {
     "data": {
      "image/png": "[encoded data removed]",
      "text/plain": [
       "<Figure size 2000x500 with 4 Axes>"
      ]
     },
     "metadata": {},
     "output_type": "display_data"
    },
    {
     "data": {
      "image/png": "[encoded data removed]",
      "text/plain": [
       "<Figure size 2000x500 with 4 Axes>"
      ]
     },
     "metadata": {},
     "output_type": "display_data"
    },
    {
     "data": {
      "image/png": "[encoded data removed]",
      "text/plain": [
       "<Figure size 2000x500 with 4 Axes>"
      ]
     },
     "metadata": {},
     "output_type": "display_data"
    }
   ],
   "source": [
    "boxplot_df(df_1, 'Боксплот для признаков датафорема df_1')\n",
    "boxplot_df(df_2, 'Боксплот для признаков датафорема df_2')\n",
    "boxplot_df(df_3, 'Боксплот для признаков датафорема df_3')"
   ]
  },
  {
   "cell_type": "markdown",
   "id": "cf63b7bc",
   "metadata": {},
   "source": [
    "Боксплот показывает, что в некоторых столбцах есть данные, выходящие за границы нормальных значений. Эти данные будут мешать модели обучаться, отвлекая её. Поэтому их необходимо удалить. \n",
    "\n",
    "Создадим датафреймы без выбросов."
   ]
  },
  {
   "cell_type": "code",
   "execution_count": 48,
   "id": "269f3a56",
   "metadata": {},
   "outputs": [
    {
     "name": "stdout",
     "output_type": "stream",
     "text": [
      "Количество строк, выбранных для удаления в столбце f2 датафрейм df_1 :  506\n",
      "Процент удаленных данных 0.506\n",
      "___________________________________________________________\n",
      "Количество строк, выбранных для удаления в столбце f1 датафрейм df_2 :  636\n",
      "Процент удаленных данных 0.636\n",
      "___________________________________________________________\n",
      "Количество строк, выбранных для удаления в столбце f0 датафрейм df_3 :  733\n",
      "Процент удаленных данных 0.733\n",
      "___________________________________________________________\n",
      "Количество строк, выбранных для удаления в столбце f1 датафрейм df_3 :  682\n",
      "Процент удаленных данных 0.6870359736871267\n",
      "___________________________________________________________\n",
      "Количество строк, выбранных для удаления в столбце f2 датафрейм df_3 :  582\n",
      "Процент удаленных данных 0.590353502054065\n",
      "___________________________________________________________\n"
     ]
    }
   ],
   "source": [
    "# копии датафреймов, на который проведем удаление выбросов\n",
    "df_1_cut = df_1.copy()\n",
    "df_2_cut = df_2.copy()\n",
    "df_3_cut = df_3.copy()\n",
    "\n",
    "name_df = []\n",
    "\n",
    "# столбцы с выбросами\n",
    "outlier_columns = [(df_1_cut,\"f2\", 'датафрейм df_1'), (df_2_cut,\"f1\", 'датафрейм df_2'), \n",
    "              (df_3_cut,\"f0\", 'датафрейм df_3'), (df_3_cut,\"f1\", 'датафрейм df_3'), \n",
    "              (df_3_cut,\"f2\", 'датафрейм df_3')]\n",
    "\n",
    "# удалим выбросы, возовем метод find_outliers()\n",
    "for df_cut,column, title in outlier_columns:    \n",
    "    indexes = find_outliers(df_cut,column, title)    \n",
    "    df_cut = df_cut.drop(indexes,axis = 0,inplace = True)"
   ]
  },
  {
   "cell_type": "code",
   "execution_count": 49,
   "id": "85dc8034",
   "metadata": {},
   "outputs": [
    {
     "data": {
      "text/plain": [
       "(99494, 4)"
      ]
     },
     "execution_count": 49,
     "metadata": {},
     "output_type": "execute_result"
    }
   ],
   "source": [
    "df_1_cut.shape"
   ]
  },
  {
   "cell_type": "markdown",
   "id": "183b326c",
   "metadata": {},
   "source": [
    "Датафреймы уменьшились не сильно, первый и второй потерял объекты менее 1% (0,5% и 0,6% соответственно), третий датафрейм  потерял данных - 2%."
   ]
  },
  {
   "cell_type": "markdown",
   "id": "2009216d",
   "metadata": {},
   "source": [
    "Проверим корреляцию между признаками постоим pairplot. Выведем матрицу корреляции по каждому датафрейму. Не обходимо определить если среди признаков признаки, которые между собой хорошо коррелируют."
   ]
  },
  {
   "cell_type": "code",
   "execution_count": 50,
   "id": "c95deb61",
   "metadata": {},
   "outputs": [],
   "source": [
    "cols = ['f0', 'f1', 'f2', 'product']\n",
    "sns_plot = sns.pairplot(df_1[cols])"
   ]
  },
  {
   "cell_type": "code",
   "execution_count": 51,
   "id": "4f972dd0",
   "metadata": {},
   "outputs": [],
   "source": [
    "sns_plot = sns.pairplot(df_2[cols])"
   ]
  },
  {
   "cell_type": "code",
   "execution_count": 52,
   "id": "8e350e01",
   "metadata": {},
   "outputs": [],
   "source": [
    "sns_plot = sns.pairplot(df_3[cols])"
   ]
  },
  {
   "cell_type": "code",
   "execution_count": 53,
   "id": "9a767e7f",
   "metadata": {},
   "outputs": [
    {
     "data": {
      "text/html": [
       "<div>\n",
       "<style scoped>\n",
       "    .dataframe tbody tr th:only-of-type {\n",
       "        vertical-align: middle;\n",
       "    }\n",
       "\n",
       "    .dataframe tbody tr th {\n",
       "        vertical-align: top;\n",
       "    }\n",
       "\n",
       "    .dataframe thead th {\n",
       "        text-align: right;\n",
       "    }\n",
       "</style>\n",
       "<table border=\"1\" class=\"dataframe\">\n",
       "  <thead>\n",
       "    <tr style=\"text-align: right;\">\n",
       "      <th></th>\n",
       "      <th>f0</th>\n",
       "      <th>f1</th>\n",
       "      <th>f2</th>\n",
       "      <th>product</th>\n",
       "    </tr>\n",
       "  </thead>\n",
       "  <tbody>\n",
       "    <tr>\n",
       "      <th>f0</th>\n",
       "      <td>1.000000</td>\n",
       "      <td>-0.440716</td>\n",
       "      <td>-0.003339</td>\n",
       "      <td>0.143591</td>\n",
       "    </tr>\n",
       "    <tr>\n",
       "      <th>f1</th>\n",
       "      <td>-0.440716</td>\n",
       "      <td>1.000000</td>\n",
       "      <td>0.001098</td>\n",
       "      <td>-0.192748</td>\n",
       "    </tr>\n",
       "    <tr>\n",
       "      <th>f2</th>\n",
       "      <td>-0.003339</td>\n",
       "      <td>0.001098</td>\n",
       "      <td>1.000000</td>\n",
       "      <td>0.480159</td>\n",
       "    </tr>\n",
       "    <tr>\n",
       "      <th>product</th>\n",
       "      <td>0.143591</td>\n",
       "      <td>-0.192748</td>\n",
       "      <td>0.480159</td>\n",
       "      <td>1.000000</td>\n",
       "    </tr>\n",
       "  </tbody>\n",
       "</table>\n",
       "</div>"
      ],
      "text/plain": [
       "               f0        f1        f2   product\n",
       "f0       1.000000 -0.440716 -0.003339  0.143591\n",
       "f1      -0.440716  1.000000  0.001098 -0.192748\n",
       "f2      -0.003339  0.001098  1.000000  0.480159\n",
       "product  0.143591 -0.192748  0.480159  1.000000"
      ]
     },
     "execution_count": 53,
     "metadata": {},
     "output_type": "execute_result"
    }
   ],
   "source": [
    "# матрица корреляции\n",
    "df_1_cut.corr()"
   ]
  },
  {
   "cell_type": "code",
   "execution_count": 54,
   "id": "eed11779",
   "metadata": {},
   "outputs": [
    {
     "data": {
      "text/html": [
       "<div>\n",
       "<style scoped>\n",
       "    .dataframe tbody tr th:only-of-type {\n",
       "        vertical-align: middle;\n",
       "    }\n",
       "\n",
       "    .dataframe tbody tr th {\n",
       "        vertical-align: top;\n",
       "    }\n",
       "\n",
       "    .dataframe thead th {\n",
       "        text-align: right;\n",
       "    }\n",
       "</style>\n",
       "<table border=\"1\" class=\"dataframe\">\n",
       "  <thead>\n",
       "    <tr style=\"text-align: right;\">\n",
       "      <th></th>\n",
       "      <th>f0</th>\n",
       "      <th>f1</th>\n",
       "      <th>f2</th>\n",
       "      <th>product</th>\n",
       "    </tr>\n",
       "  </thead>\n",
       "  <tbody>\n",
       "    <tr>\n",
       "      <th>f0</th>\n",
       "      <td>1.000000</td>\n",
       "      <td>0.178877</td>\n",
       "      <td>-0.001670</td>\n",
       "      <td>-0.030389</td>\n",
       "    </tr>\n",
       "    <tr>\n",
       "      <th>f1</th>\n",
       "      <td>0.178877</td>\n",
       "      <td>1.000000</td>\n",
       "      <td>-0.002756</td>\n",
       "      <td>-0.010174</td>\n",
       "    </tr>\n",
       "    <tr>\n",
       "      <th>f2</th>\n",
       "      <td>-0.001670</td>\n",
       "      <td>-0.002756</td>\n",
       "      <td>1.000000</td>\n",
       "      <td>0.999397</td>\n",
       "    </tr>\n",
       "    <tr>\n",
       "      <th>product</th>\n",
       "      <td>-0.030389</td>\n",
       "      <td>-0.010174</td>\n",
       "      <td>0.999397</td>\n",
       "      <td>1.000000</td>\n",
       "    </tr>\n",
       "  </tbody>\n",
       "</table>\n",
       "</div>"
      ],
      "text/plain": [
       "               f0        f1        f2   product\n",
       "f0       1.000000  0.178877 -0.001670 -0.030389\n",
       "f1       0.178877  1.000000 -0.002756 -0.010174\n",
       "f2      -0.001670 -0.002756  1.000000  0.999397\n",
       "product -0.030389 -0.010174  0.999397  1.000000"
      ]
     },
     "execution_count": 54,
     "metadata": {},
     "output_type": "execute_result"
    }
   ],
   "source": [
    "df_2_cut.corr()"
   ]
  },
  {
   "cell_type": "code",
   "execution_count": 55,
   "id": "b6b2287c",
   "metadata": {},
   "outputs": [
    {
     "data": {
      "text/html": [
       "<div>\n",
       "<style scoped>\n",
       "    .dataframe tbody tr th:only-of-type {\n",
       "        vertical-align: middle;\n",
       "    }\n",
       "\n",
       "    .dataframe tbody tr th {\n",
       "        vertical-align: top;\n",
       "    }\n",
       "\n",
       "    .dataframe thead th {\n",
       "        text-align: right;\n",
       "    }\n",
       "</style>\n",
       "<table border=\"1\" class=\"dataframe\">\n",
       "  <thead>\n",
       "    <tr style=\"text-align: right;\">\n",
       "      <th></th>\n",
       "      <th>f0</th>\n",
       "      <th>f1</th>\n",
       "      <th>f2</th>\n",
       "      <th>product</th>\n",
       "    </tr>\n",
       "  </thead>\n",
       "  <tbody>\n",
       "    <tr>\n",
       "      <th>f0</th>\n",
       "      <td>1.000000</td>\n",
       "      <td>0.000649</td>\n",
       "      <td>0.000473</td>\n",
       "      <td>-0.002962</td>\n",
       "    </tr>\n",
       "    <tr>\n",
       "      <th>f1</th>\n",
       "      <td>0.000649</td>\n",
       "      <td>1.000000</td>\n",
       "      <td>0.000710</td>\n",
       "      <td>-0.000895</td>\n",
       "    </tr>\n",
       "    <tr>\n",
       "      <th>f2</th>\n",
       "      <td>0.000473</td>\n",
       "      <td>0.000710</td>\n",
       "      <td>1.000000</td>\n",
       "      <td>0.441211</td>\n",
       "    </tr>\n",
       "    <tr>\n",
       "      <th>product</th>\n",
       "      <td>-0.002962</td>\n",
       "      <td>-0.000895</td>\n",
       "      <td>0.441211</td>\n",
       "      <td>1.000000</td>\n",
       "    </tr>\n",
       "  </tbody>\n",
       "</table>\n",
       "</div>"
      ],
      "text/plain": [
       "               f0        f1        f2   product\n",
       "f0       1.000000  0.000649  0.000473 -0.002962\n",
       "f1       0.000649  1.000000  0.000710 -0.000895\n",
       "f2       0.000473  0.000710  1.000000  0.441211\n",
       "product -0.002962 -0.000895  0.441211  1.000000"
      ]
     },
     "execution_count": 55,
     "metadata": {},
     "output_type": "execute_result"
    }
   ],
   "source": [
    "df_3_cut.corr()"
   ]
  },
  {
   "cell_type": "markdown",
   "id": "4c7a50e1",
   "metadata": {},
   "source": [
    "Графики и матрица корреляции показали следующее: \n",
    "\n",
    "- в первом датафрейме признаки `f0` и `f1` слабо отрицательно коррелируют относительно друг друга и `f2` слабо положительно коррелирует с целевым признаком,\n",
    "\n",
    "- во втором датафрейме очень сильно положительно коррелирует целевой признак и признак `f2`, ожидаем модель хорошего качества,\n",
    "\n",
    "- в третьем датафрейме так же слабо положительно коррелирует признак `f2` и целевой признак `product`,\n",
    "\n",
    "- на графике видно, что в наших данных числовые признаки отличаются друг от друга по модулю значений (диапазоны значений осей x и y).\n",
    "\n",
    "По данным графика создаетс впечатление, что с признаками привели частичное масштабирование, например: во втором датафрейме признак `f0` как при масштабировании распределен вокруг среднего со значением ноль, такое же равномерное распределение данных вокруг среднего (ноль) мы наблюдаем у признаков `f0` и `f1` третьего датафрейма.\n",
    "\n",
    "Не смотря выявленную частичную предобработку данных проведем масштабирование всех признаков в датафреймах. "
   ]
  },
  {
   "cell_type": "markdown",
   "id": "1173fb93",
   "metadata": {},
   "source": [
    "**Вывод:**\n",
    "\n",
    "- пропуски в данных - отсутствуют,\n",
    "\n",
    "- типы данных в столбцах - корректны,\n",
    "\n",
    "- названия столбцов - корректны, \n",
    "\n",
    "- удалили столбец `id`, как не информативный,\n",
    "\n",
    "- явные дубликаты - отсутствуют, неявные оставили без изменений,\n",
    "\n",
    "- объем запасов имеют положительные значения или ноль,\n",
    "\n",
    "- выбросы - удалены, для этого созданы копии основных датафреймов,\n",
    " \n",
    "- сильной корреляций признаков между собой мы не наблюдаем,\n",
    "\n",
    "- за целевой признак примем столбец `product`, остальные столбцы - признаки, по которым будем проводить предсказывание целевого признака,\n",
    "\n",
    "- для предсказания целевого признака будем использовать линейную регрессию."
   ]
  },
  {
   "cell_type": "markdown",
   "id": "0b716476",
   "metadata": {},
   "source": [
    "<a id = 'model'></a>"
   ]
  },
  {
   "cell_type": "markdown",
   "id": "198aca89",
   "metadata": {},
   "source": [
    "## Обучение и проверка модели линейной регрессии для каждого региона."
   ]
  },
  {
   "cell_type": "markdown",
   "id": "ef69605c",
   "metadata": {},
   "source": [
    "Выделим из датасета зависимую целевую переменную `product` и обозначим ее - `y`. `X` - обозначим независимые переменные (признаки) представленные несколькими столбцами.\n",
    "\n",
    "Разделим датафреймы на признаки (`X`) и целевую переменную (`y`).\n",
    "\n",
    "Разделим выборки на обучающую и валидационную с помощью метода `split_scaled_df()`. Соотношение данных в выборка 75% и 25% соотвественно.\n",
    "\n",
    "Проведем масшабирование независимых признаков с помощью метода `split_scaled_df()`.\n",
    "\n",
    "Обучим модель линейная регрессия, с помощью метода `train_model()` передадим для обучения разделенные выборки с масштабированными данными, подсчитаем средний запас сырья по предсказаным на валидационной выборке данным, выведем размер ошибки модели предсказания `RMSE` для каждого региона разработки, сохраним предсказаные данные и правильные ответы."
   ]
  },
  {
   "cell_type": "markdown",
   "id": "742c51b2",
   "metadata": {},
   "source": [
    "Вызовем метод `train_model()` для каждого региона. В работе будем использовать выборки без выбросов.\n",
    "\n",
    "Позже проверим эти же данные на полных выборках, сравним результат."
   ]
  },
  {
   "cell_type": "code",
   "execution_count": 56,
   "id": "0edf5674",
   "metadata": {},
   "outputs": [
    {
     "name": "stdout",
     "output_type": "stream",
     "text": [
      "Данные по региону 1\n",
      "__________________\n",
      "размер выборки X_train: (74620, 3)\n",
      "размер выборки X_valid: (24874, 3)\n",
      "размер выборки y_train: (74620,)\n",
      "размер выборки y_valid: (24874,)\n",
      "__________________\n",
      "RMSE: 37.80\n",
      "RMSE на константной модели: 44.22\n",
      "__________________\n",
      "Средний запас предсказанного сырья в регионе: 92.50\n",
      "Фактический средний запас сырья в регионе: 92.61\n",
      "__________________\n",
      "Суммарный запас предсказанного сырья в регионе: 2300952.40\n",
      "Фактический суммарный запас сырья в регионе: 2303553.41\n"
     ]
    },
    {
     "data": {
      "text/html": [
       "<div>\n",
       "<style scoped>\n",
       "    .dataframe tbody tr th:only-of-type {\n",
       "        vertical-align: middle;\n",
       "    }\n",
       "\n",
       "    .dataframe tbody tr th {\n",
       "        vertical-align: top;\n",
       "    }\n",
       "\n",
       "    .dataframe thead th {\n",
       "        text-align: right;\n",
       "    }\n",
       "</style>\n",
       "<table border=\"1\" class=\"dataframe\">\n",
       "  <thead>\n",
       "    <tr style=\"text-align: right;\">\n",
       "      <th></th>\n",
       "      <th>real_product</th>\n",
       "      <th>predictions_product</th>\n",
       "    </tr>\n",
       "  </thead>\n",
       "  <tbody>\n",
       "    <tr>\n",
       "      <th>46458</th>\n",
       "      <td>104.600066</td>\n",
       "      <td>69.832714</td>\n",
       "    </tr>\n",
       "    <tr>\n",
       "      <th>27135</th>\n",
       "      <td>38.778579</td>\n",
       "      <td>74.081733</td>\n",
       "    </tr>\n",
       "    <tr>\n",
       "      <th>94840</th>\n",
       "      <td>25.963815</td>\n",
       "      <td>115.503906</td>\n",
       "    </tr>\n",
       "    <tr>\n",
       "      <th>21127</th>\n",
       "      <td>125.934931</td>\n",
       "      <td>87.122028</td>\n",
       "    </tr>\n",
       "    <tr>\n",
       "      <th>87372</th>\n",
       "      <td>97.349779</td>\n",
       "      <td>88.134519</td>\n",
       "    </tr>\n",
       "  </tbody>\n",
       "</table>\n",
       "</div>"
      ],
      "text/plain": [
       "       real_product  predictions_product\n",
       "46458    104.600066            69.832714\n",
       "27135     38.778579            74.081733\n",
       "94840     25.963815           115.503906\n",
       "21127    125.934931            87.122028\n",
       "87372     97.349779            88.134519"
      ]
     },
     "execution_count": 56,
     "metadata": {},
     "output_type": "execute_result"
    }
   ],
   "source": [
    "data_frame_1_cut, y_valid_1_cut, predictions_valid_1_cut = train_model(df_1_cut, '1')\n",
    "data_frame_1_cut.head()"
   ]
  },
  {
   "cell_type": "code",
   "execution_count": 57,
   "id": "b6d021a9",
   "metadata": {},
   "outputs": [
    {
     "name": "stdout",
     "output_type": "stream",
     "text": [
      "Данные по региону 2\n",
      "__________________\n",
      "размер выборки X_train: (74523, 3)\n",
      "размер выборки X_valid: (24841, 3)\n",
      "размер выборки y_train: (74523,)\n",
      "размер выборки y_valid: (24841,)\n",
      "__________________\n",
      "RMSE: 0.89\n",
      "RMSE на константной модели: 45.86\n",
      "__________________\n",
      "Средний запас предсказанного сырья в регионе: 68.86\n",
      "Фактический средний запас сырья в регионе: 68.85\n",
      "__________________\n",
      "Суммарный запас предсказанного сырья в регионе: 1710442.19\n",
      "Фактический суммарный запас сырья в регионе: 1710405.71\n"
     ]
    },
    {
     "data": {
      "text/html": [
       "<div>\n",
       "<style scoped>\n",
       "    .dataframe tbody tr th:only-of-type {\n",
       "        vertical-align: middle;\n",
       "    }\n",
       "\n",
       "    .dataframe tbody tr th {\n",
       "        vertical-align: top;\n",
       "    }\n",
       "\n",
       "    .dataframe thead th {\n",
       "        text-align: right;\n",
       "    }\n",
       "</style>\n",
       "<table border=\"1\" class=\"dataframe\">\n",
       "  <thead>\n",
       "    <tr style=\"text-align: right;\">\n",
       "      <th></th>\n",
       "      <th>real_product</th>\n",
       "      <th>predictions_product</th>\n",
       "    </tr>\n",
       "  </thead>\n",
       "  <tbody>\n",
       "    <tr>\n",
       "      <th>92396</th>\n",
       "      <td>134.766305</td>\n",
       "      <td>135.721697</td>\n",
       "    </tr>\n",
       "    <tr>\n",
       "      <th>97844</th>\n",
       "      <td>84.038886</td>\n",
       "      <td>84.338894</td>\n",
       "    </tr>\n",
       "    <tr>\n",
       "      <th>27028</th>\n",
       "      <td>134.766305</td>\n",
       "      <td>135.782626</td>\n",
       "    </tr>\n",
       "    <tr>\n",
       "      <th>1928</th>\n",
       "      <td>0.000000</td>\n",
       "      <td>-1.131794</td>\n",
       "    </tr>\n",
       "    <tr>\n",
       "      <th>11878</th>\n",
       "      <td>53.906522</td>\n",
       "      <td>54.345803</td>\n",
       "    </tr>\n",
       "  </tbody>\n",
       "</table>\n",
       "</div>"
      ],
      "text/plain": [
       "       real_product  predictions_product\n",
       "92396    134.766305           135.721697\n",
       "97844     84.038886            84.338894\n",
       "27028    134.766305           135.782626\n",
       "1928       0.000000            -1.131794\n",
       "11878     53.906522            54.345803"
      ]
     },
     "execution_count": 57,
     "metadata": {},
     "output_type": "execute_result"
    }
   ],
   "source": [
    "data_frame_2_cut, y_valid_2_cut, predictions_valid_2_cut = train_model(df_2_cut, '2')\n",
    "data_frame_2_cut.head()"
   ]
  },
  {
   "cell_type": "code",
   "execution_count": 58,
   "id": "96d3232e",
   "metadata": {},
   "outputs": [
    {
     "name": "stdout",
     "output_type": "stream",
     "text": [
      "Данные по региону 3\n",
      "__________________\n",
      "размер выборки X_train: (73502, 3)\n",
      "размер выборки X_valid: (24501, 3)\n",
      "размер выборки y_train: (73502,)\n",
      "размер выборки y_valid: (24501,)\n",
      "__________________\n",
      "RMSE: 39.84\n",
      "RMSE на константной модели: 44.41\n",
      "__________________\n",
      "Средний запас предсказанного сырья в регионе: 94.66\n",
      "Фактический средний запас сырья в регионе: 95.07\n",
      "__________________\n",
      "Суммарный запас предсказанного сырья в регионе: 2319163.59\n",
      "Фактический суммарный запас сырья в регионе: 2329385.77\n"
     ]
    },
    {
     "data": {
      "text/html": [
       "<div>\n",
       "<style scoped>\n",
       "    .dataframe tbody tr th:only-of-type {\n",
       "        vertical-align: middle;\n",
       "    }\n",
       "\n",
       "    .dataframe tbody tr th {\n",
       "        vertical-align: top;\n",
       "    }\n",
       "\n",
       "    .dataframe thead th {\n",
       "        text-align: right;\n",
       "    }\n",
       "</style>\n",
       "<table border=\"1\" class=\"dataframe\">\n",
       "  <thead>\n",
       "    <tr style=\"text-align: right;\">\n",
       "      <th></th>\n",
       "      <th>real_product</th>\n",
       "      <th>predictions_product</th>\n",
       "    </tr>\n",
       "  </thead>\n",
       "  <tbody>\n",
       "    <tr>\n",
       "      <th>94796</th>\n",
       "      <td>92.920789</td>\n",
       "      <td>81.677834</td>\n",
       "    </tr>\n",
       "    <tr>\n",
       "      <th>88675</th>\n",
       "      <td>168.291264</td>\n",
       "      <td>100.994121</td>\n",
       "    </tr>\n",
       "    <tr>\n",
       "      <th>4862</th>\n",
       "      <td>84.591767</td>\n",
       "      <td>136.946986</td>\n",
       "    </tr>\n",
       "    <tr>\n",
       "      <th>6127</th>\n",
       "      <td>38.447211</td>\n",
       "      <td>109.575934</td>\n",
       "    </tr>\n",
       "    <tr>\n",
       "      <th>12195</th>\n",
       "      <td>151.963551</td>\n",
       "      <td>113.680902</td>\n",
       "    </tr>\n",
       "  </tbody>\n",
       "</table>\n",
       "</div>"
      ],
      "text/plain": [
       "       real_product  predictions_product\n",
       "94796     92.920789            81.677834\n",
       "88675    168.291264           100.994121\n",
       "4862      84.591767           136.946986\n",
       "6127      38.447211           109.575934\n",
       "12195    151.963551           113.680902"
      ]
     },
     "execution_count": 58,
     "metadata": {},
     "output_type": "execute_result"
    }
   ],
   "source": [
    "data_frame_3_cut, y_valid_3_cut, predictions_valid_3_cut = train_model(df_3_cut, '3')\n",
    "data_frame_3_cut.head()"
   ]
  },
  {
   "cell_type": "markdown",
   "id": "edc5ed77",
   "metadata": {},
   "source": [
    "Выводы:\n",
    "\n",
    "- исходя из данных погрешность модели (`RMSE`) меньше всего для 2 региона - 0.89. Погрешность в регионе 1 и 3 очень большая- равна трети и половине среднего запаса сырья.\n",
    "\n",
    "- среднее количество сырья примерно одинакове в 1 и 3 регионе (92.50 и 94.66 соотвественно), во втором регионе в 1,3 раза чемьше, чем в 1 и 3 регоинах (68,86).\n",
    "\n",
    "-  почти линейная зависимость `f2` от `product` в данных второго региона,скорее всего положительно влияют на качество линейной модели.\n",
    "\n",
    "- погрешность модели (`RMSE`) ниже, чем расчитанные показатель на константной модели, модель для 2 региона показывает минимальную ошибку.\n",
    "\n",
    "- не смотря на достаточно большой размер погрешности в моделях для 1 и 3 региона, предсказанные средние запасы отличаются от фактических незначительно. Суммарные запасы, предсказанные моделями по регионам, близки к фактическим: модель по 1 региону ошиблась суммарно на 2600тыс. баррелей (предсказала меньше), по 2 региону на 69тыс. баррелей (предсказала суммарно меньше) и 3 регион на 850тыс. баррелей (предсказано суммарно больше).\n",
    "\n",
    "Модель по 2 регону показала наименьшую ошибку, но объемы сырья в месторождения 2 региона в 1,3 раза меньше, чем объемы сырья в 1 и 3 регионах."
   ]
  },
  {
   "cell_type": "markdown",
   "id": "d3ed895b",
   "metadata": {},
   "source": [
    "**Примечание:** сделаем то же самое на неочищенных данных"
   ]
  },
  {
   "cell_type": "markdown",
   "id": "f43955f0",
   "metadata": {},
   "source": [
    "Сравним данные на очищенных выборка с данными на полных выборках."
   ]
  },
  {
   "cell_type": "code",
   "execution_count": 59,
   "id": "e644011d",
   "metadata": {},
   "outputs": [
    {
     "name": "stdout",
     "output_type": "stream",
     "text": [
      "Данные по региону 1\n",
      "__________________\n",
      "размер выборки X_train: (75000, 3)\n",
      "размер выборки X_valid: (25000, 3)\n",
      "размер выборки y_train: (75000,)\n",
      "размер выборки y_valid: (25000,)\n",
      "__________________\n",
      "RMSE: 37.77\n",
      "RMSE на константной модели: 44.29\n",
      "__________________\n",
      "Средний запас предсказанного сырья в регионе: 92.83\n",
      "Фактический средний запас сырья в регионе: 92.49\n",
      "__________________\n",
      "Суммарный запас предсказанного сырья в регионе: 2320691.80\n",
      "Фактический суммарный запас сырья в регионе: 2312347.60\n"
     ]
    },
    {
     "data": {
      "text/html": [
       "<div>\n",
       "<style scoped>\n",
       "    .dataframe tbody tr th:only-of-type {\n",
       "        vertical-align: middle;\n",
       "    }\n",
       "\n",
       "    .dataframe tbody tr th {\n",
       "        vertical-align: top;\n",
       "    }\n",
       "\n",
       "    .dataframe thead th {\n",
       "        text-align: right;\n",
       "    }\n",
       "</style>\n",
       "<table border=\"1\" class=\"dataframe\">\n",
       "  <thead>\n",
       "    <tr style=\"text-align: right;\">\n",
       "      <th></th>\n",
       "      <th>real_product</th>\n",
       "      <th>predictions_product</th>\n",
       "    </tr>\n",
       "  </thead>\n",
       "  <tbody>\n",
       "    <tr>\n",
       "      <th>85564</th>\n",
       "      <td>119.114471</td>\n",
       "      <td>148.271582</td>\n",
       "    </tr>\n",
       "    <tr>\n",
       "      <th>65167</th>\n",
       "      <td>113.968606</td>\n",
       "      <td>73.423417</td>\n",
       "    </tr>\n",
       "    <tr>\n",
       "      <th>59568</th>\n",
       "      <td>119.561140</td>\n",
       "      <td>135.083722</td>\n",
       "    </tr>\n",
       "    <tr>\n",
       "      <th>46182</th>\n",
       "      <td>98.795473</td>\n",
       "      <td>83.310683</td>\n",
       "    </tr>\n",
       "    <tr>\n",
       "      <th>41496</th>\n",
       "      <td>84.567720</td>\n",
       "      <td>98.402799</td>\n",
       "    </tr>\n",
       "  </tbody>\n",
       "</table>\n",
       "</div>"
      ],
      "text/plain": [
       "       real_product  predictions_product\n",
       "85564    119.114471           148.271582\n",
       "65167    113.968606            73.423417\n",
       "59568    119.561140           135.083722\n",
       "46182     98.795473            83.310683\n",
       "41496     84.567720            98.402799"
      ]
     },
     "execution_count": 59,
     "metadata": {},
     "output_type": "execute_result"
    }
   ],
   "source": [
    "data_frame_1, y_valid_1, predictions_valid_1 = train_model(df_1, '1')\n",
    "data_frame_1.head()"
   ]
  },
  {
   "cell_type": "code",
   "execution_count": 60,
   "id": "66e135f3",
   "metadata": {},
   "outputs": [
    {
     "name": "stdout",
     "output_type": "stream",
     "text": [
      "Данные по региону 2\n",
      "__________________\n",
      "размер выборки X_train: (75000, 3)\n",
      "размер выборки X_valid: (25000, 3)\n",
      "размер выборки y_train: (75000,)\n",
      "размер выборки y_valid: (25000,)\n",
      "__________________\n",
      "RMSE: 0.90\n",
      "RMSE на константной модели: 45.99\n",
      "__________________\n",
      "Средний запас предсказанного сырья в регионе: 68.76\n",
      "Фактический средний запас сырья в регионе: 68.76\n",
      "__________________\n",
      "Суммарный запас предсказанного сырья в регионе: 1719065.05\n",
      "Фактический суммарный запас сырья в регионе: 1719121.70\n"
     ]
    },
    {
     "data": {
      "text/html": [
       "<div>\n",
       "<style scoped>\n",
       "    .dataframe tbody tr th:only-of-type {\n",
       "        vertical-align: middle;\n",
       "    }\n",
       "\n",
       "    .dataframe tbody tr th {\n",
       "        vertical-align: top;\n",
       "    }\n",
       "\n",
       "    .dataframe thead th {\n",
       "        text-align: right;\n",
       "    }\n",
       "</style>\n",
       "<table border=\"1\" class=\"dataframe\">\n",
       "  <thead>\n",
       "    <tr style=\"text-align: right;\">\n",
       "      <th></th>\n",
       "      <th>real_product</th>\n",
       "      <th>predictions_product</th>\n",
       "    </tr>\n",
       "  </thead>\n",
       "  <tbody>\n",
       "    <tr>\n",
       "      <th>15750</th>\n",
       "      <td>3.179103</td>\n",
       "      <td>2.144186</td>\n",
       "    </tr>\n",
       "    <tr>\n",
       "      <th>92901</th>\n",
       "      <td>84.038886</td>\n",
       "      <td>83.094928</td>\n",
       "    </tr>\n",
       "    <tr>\n",
       "      <th>54891</th>\n",
       "      <td>80.859783</td>\n",
       "      <td>82.958921</td>\n",
       "    </tr>\n",
       "    <tr>\n",
       "      <th>50298</th>\n",
       "      <td>134.766305</td>\n",
       "      <td>135.733781</td>\n",
       "    </tr>\n",
       "    <tr>\n",
       "      <th>60393</th>\n",
       "      <td>57.085625</td>\n",
       "      <td>55.922711</td>\n",
       "    </tr>\n",
       "  </tbody>\n",
       "</table>\n",
       "</div>"
      ],
      "text/plain": [
       "       real_product  predictions_product\n",
       "15750      3.179103             2.144186\n",
       "92901     84.038886            83.094928\n",
       "54891     80.859783            82.958921\n",
       "50298    134.766305           135.733781\n",
       "60393     57.085625            55.922711"
      ]
     },
     "execution_count": 60,
     "metadata": {},
     "output_type": "execute_result"
    }
   ],
   "source": [
    "data_frame_2, y_valid_2, predictions_valid_2 = train_model(df_2, '2')\n",
    "data_frame_2.head()"
   ]
  },
  {
   "cell_type": "code",
   "execution_count": 61,
   "id": "b0d22aaf",
   "metadata": {},
   "outputs": [
    {
     "name": "stdout",
     "output_type": "stream",
     "text": [
      "Данные по региону 3\n",
      "__________________\n",
      "размер выборки X_train: (75000, 3)\n",
      "размер выборки X_valid: (25000, 3)\n",
      "размер выборки y_train: (75000,)\n",
      "размер выборки y_valid: (25000,)\n",
      "__________________\n",
      "RMSE: 39.89\n",
      "RMSE на константной модели: 44.65\n",
      "__________________\n",
      "Средний запас предсказанного сырья в регионе: 95.10\n",
      "Фактический средний запас сырья в регионе: 94.86\n",
      "__________________\n",
      "Суммарный запас предсказанного сырья в регионе: 2377537.88\n",
      "Фактический суммарный запас сырья в регионе: 2371558.14\n"
     ]
    },
    {
     "data": {
      "text/html": [
       "<div>\n",
       "<style scoped>\n",
       "    .dataframe tbody tr th:only-of-type {\n",
       "        vertical-align: middle;\n",
       "    }\n",
       "\n",
       "    .dataframe tbody tr th {\n",
       "        vertical-align: top;\n",
       "    }\n",
       "\n",
       "    .dataframe thead th {\n",
       "        text-align: right;\n",
       "    }\n",
       "</style>\n",
       "<table border=\"1\" class=\"dataframe\">\n",
       "  <thead>\n",
       "    <tr style=\"text-align: right;\">\n",
       "      <th></th>\n",
       "      <th>real_product</th>\n",
       "      <th>predictions_product</th>\n",
       "    </tr>\n",
       "  </thead>\n",
       "  <tbody>\n",
       "    <tr>\n",
       "      <th>83700</th>\n",
       "      <td>10.007117</td>\n",
       "      <td>65.652325</td>\n",
       "    </tr>\n",
       "    <tr>\n",
       "      <th>49708</th>\n",
       "      <td>155.398444</td>\n",
       "      <td>107.776427</td>\n",
       "    </tr>\n",
       "    <tr>\n",
       "      <th>80283</th>\n",
       "      <td>84.936716</td>\n",
       "      <td>62.447689</td>\n",
       "    </tr>\n",
       "    <tr>\n",
       "      <th>82412</th>\n",
       "      <td>131.214837</td>\n",
       "      <td>76.099833</td>\n",
       "    </tr>\n",
       "    <tr>\n",
       "      <th>96671</th>\n",
       "      <td>77.745675</td>\n",
       "      <td>99.142288</td>\n",
       "    </tr>\n",
       "  </tbody>\n",
       "</table>\n",
       "</div>"
      ],
      "text/plain": [
       "       real_product  predictions_product\n",
       "83700     10.007117            65.652325\n",
       "49708    155.398444           107.776427\n",
       "80283     84.936716            62.447689\n",
       "82412    131.214837            76.099833\n",
       "96671     77.745675            99.142288"
      ]
     },
     "execution_count": 61,
     "metadata": {},
     "output_type": "execute_result"
    }
   ],
   "source": [
    "data_frame_3, y_valid_3, predictions_valid_3 = train_model(df_3, '3')\n",
    "data_frame_3.head()"
   ]
  },
  {
   "cell_type": "markdown",
   "id": "578a9c78",
   "metadata": {},
   "source": [
    "На полной выборке результат предсказания (`RMSE` немного ниже) незначительно лучше оказался только на на полной выборке 1 региона. На всех остальных незначительно выше.\n",
    "\n",
    "Не удаленные выбросы ожидаемо дали выше результат по среднему запасу и суммарному запасу по регионам (как по фактическим данным, так и по предсказанным).\n",
    "\n",
    "При этом модель ошибается в большую сторону предсказывая объемы запасов на неочищенных данных. Это видно на примере суммарых и средних запасов."
   ]
  },
  {
   "cell_type": "markdown",
   "id": "bc122f49",
   "metadata": {},
   "source": [
    "<a id = 'indicators'></a>"
   ]
  },
  {
   "cell_type": "markdown",
   "id": "bbda21d8",
   "metadata": {},
   "source": [
    "## Подготовка данных к расчёту прибыли"
   ]
  },
  {
   "cell_type": "markdown",
   "id": "253577fb",
   "metadata": {},
   "source": [
    "Рассчитаем достаточный объём сырья для безубыточной разработки новой скважины. Сравним полученный объём сырья со средним запасом в каждом регионе. "
   ]
  },
  {
   "cell_type": "code",
   "execution_count": 62,
   "id": "6a186cfa",
   "metadata": {},
   "outputs": [
    {
     "name": "stdout",
     "output_type": "stream",
     "text": [
      "Бюджет на на разработку одной скважины в регионе: 50000000.00\n",
      "Минимальный объём сырья для безубыточной разработки новой скважины (в тыс. баррелей): 111.11\n"
     ]
    }
   ],
   "source": [
    "# отределим размера бюджета на одну новую скважину.\n",
    "budget_per_point = BUDGET / BEST_RESEARCH_POINTS\n",
    "\n",
    "print('Бюджет на на разработку одной скважины в регионе: {:.2f}'.format(budget_per_point))\n",
    "\n",
    "# отределим достаточный объём сырья для безубыточной разработки новой скважины.\n",
    "min_product_per_point = budget_per_point / PRODUCT_INCOME\n",
    "\n",
    "print('Минимальный объём сырья для безубыточной разработки новой скважины (в тыс. баррелей): {:.2f}'.\n",
    "      format(min_product_per_point))"
   ]
  },
  {
   "cell_type": "code",
   "execution_count": 81,
   "id": "bddc929d",
   "metadata": {},
   "outputs": [
    {
     "name": "stdout",
     "output_type": "stream",
     "text": [
      "Средний запас сырья на скважину в регионе 1: 92.61\n",
      "Средний запас сырья на скважину в регионе 2: 68.85\n",
      "Средний запас сырья на скважину в регионе 3: 95.07\n"
     ]
    }
   ],
   "source": [
    "print('Средний запас сырья на скважину в регионе 1: {:.2f}'. format(y_valid_1_cut.mean()))\n",
    "print('Средний запас сырья на скважину в регионе 2: {:.2f}'. format(y_valid_2_cut.mean()))\n",
    "print('Средний запас сырья на скважину в регионе 3: {:.2f}'. format(y_valid_3_cut.mean()))"
   ]
  },
  {
   "cell_type": "markdown",
   "id": "1f6d8036",
   "metadata": {},
   "source": [
    "Минимальный объём сырья для безубыточной разработки новой скважины (111,11 тыс. баррелей) выше, чем средние запасы сырья в регионах . "
   ]
  },
  {
   "cell_type": "markdown",
   "id": "5f2112de",
   "metadata": {},
   "source": [
    "Дополнительно расчитаем минимальный расчет запасов нефти на регион из расчета на 200 скважин."
   ]
  },
  {
   "cell_type": "code",
   "execution_count": 67,
   "id": "943bf641",
   "metadata": {},
   "outputs": [
    {
     "name": "stdout",
     "output_type": "stream",
     "text": [
      "Мин. объем запасов по региону на 200 скважин (в тыс. баррелей):22222.22\n"
     ]
    }
   ],
   "source": [
    "# отределим минимальный объем запасов нефти на регион из расчета на 200 скважин для безубыточной разработки.\n",
    "min_product_per_region = (min_product_per_point * BEST_RESEARCH_POINTS)\n",
    "print('Мин. объем запасов по региону на 200 скважин (в тыс. баррелей):{:.2f}'. format(min_product_per_region))"
   ]
  },
  {
   "cell_type": "markdown",
   "id": "adf7eb11",
   "metadata": {},
   "source": [
    "**Вывод**\n",
    "\n",
    "На этапе подготовки данных для расчета прибыли были полученные следующие данные:\n",
    "\n",
    "- бюджет на на разработку одной скважины в регионе - 50 000 тыс. руб\n",
    "\n",
    "- минимальный объём сырья для безубыточной разработки новой скважины -  111.11 тыс. баррелей, что больше фактического среднего полученного по регионам,\n",
    "\n",
    "- минимальный объем запасов нефти на регион из расчета на 200 скважин для безубыточной разработки - 22 222.22 тыс. баррелей."
   ]
  },
  {
   "cell_type": "markdown",
   "id": "ac953343",
   "metadata": {},
   "source": [
    "Мы сравнивали минимальный объём сырья для безубыточной разработки новой скважины (111.11 тыс. баррелей) с средними запасами сырья по регионам. Средние запасы расчитывась исходя из всех известных точек ( в валидационной выборке 25 тысяч). Среди этих объектов есть как сважины с очень маленьким объемом запасов, так и с очень большим объемом запасов, что не может влиять на размер среднего значения. \n",
    "\n",
    "По факту фирма-разработчик планирует в геологоразведке региона исследовать 500 точек, из которых отобрать 200 лучших для разработки. То есть разработываться будут не все известные объекты в регионе, а лишь малая их часть. Полагаем, что к отбору скважин фирма-разработчик подойдет отвественно и подберет скважины с лучшими параматрами. \n",
    "\n",
    "Статистические данные показывают, что среди точек есть порядка 25%, превышающих минимальный объём сырья для безубыточной разработки новой скважины. Таким образом можно сказать, что низкое среднее значение запасов (на одну скважину) по региону не может являться причиной отказа разрабатывать объекты региона, этот показатель не отражает возможностей объектов при дифференцированном отборе. \n",
    "\n",
    "Отбирая случайным образом меньшее количество скважин, можем получить усредненое значение запасов как меньше, так и больше расчетного объема для  безубыточной разработки новой скважины.\n",
    "\n",
    "Хорошо бы подтвердить (или опровергнуть) наши выводы экспериментальным путем - много раз отбирая случайным образом из всех известных нам точек нужное количество объектов и в итоге посмотреть на распределение результатов. \n",
    "\n",
    "Это можно реализовать с помощью техники  Bootstrap: случайным образом с 1000 выборок будем отбирать случайным образом 500 скважин, а из них 200 лучших по объему запасов. Таким образом собрав разрые вариации мы сможем посмотреть на распределение прибыли, определить границы финансового результата в 95% случаев, а так же определить регионы, где отрицательный финансовый результат (убыток) не превышает 2,5% от всех случаев.\n",
    "\n",
    "То есть сделаем вид, что каждый такой отбор — это результат повторения реального эксперимента."
   ]
  },
  {
   "cell_type": "markdown",
   "id": "c2e5dacf",
   "metadata": {},
   "source": [
    "<a id = 'revenue'></a>"
   ]
  },
  {
   "cell_type": "markdown",
   "id": "51008478",
   "metadata": {},
   "source": [
    "## Расчёта прибыли по выбранным скважинам и предсказаным моделями запасами"
   ]
  },
  {
   "cell_type": "markdown",
   "id": "88beca8f",
   "metadata": {},
   "source": [
    "Создадим метод `revenue()` для расчёта прибыли по выбранным скважинам и предсказаниям модели.\n",
    "\n",
    "Метод позволит выбирать скважины с максимальными значениями предсказаний, просуммировать целевое значение объёма сырья, соответствующее этим предсказаниям, рассчитать прибыль для полученного объёма сырья."
   ]
  },
  {
   "cell_type": "code",
   "execution_count": 68,
   "id": "7340f1de",
   "metadata": {},
   "outputs": [],
   "source": [
    "# метод для расчета прибыли\n",
    "def revenue (target, predictions):    \n",
    "    # отсортируем по убыванию предсказанные значения целевого признака    \n",
    "    top_points = predictions.sort_values(ascending=False)\n",
    "    \n",
    "    # возьмем фактические данные по топ-объектам с предсказанным максимальным объемом запасов\n",
    "    selected = target[top_points.index][:BEST_RESEARCH_POINTS]\n",
    "    \n",
    "    # посчитаем общий объем фактических запасов\n",
    "    selected_sum = selected.sum()\n",
    "    \n",
    "    # расчитаем прибыль\n",
    "    revenue_best_points = (PRODUCT_INCOME * selected_sum) - BUDGET\n",
    "    \n",
    "    # расчитаем средный объем запасов на скважину из выбранных топ-скважин\n",
    "    selected_mean = selected.mean()\n",
    "    \n",
    "    return selected_mean, revenue_best_points/1000000"
   ]
  },
  {
   "cell_type": "code",
   "execution_count": 69,
   "id": "d3d812e7",
   "metadata": {},
   "outputs": [
    {
     "name": "stdout",
     "output_type": "stream",
     "text": [
      "Прибыль и запасы сырья по регионам на валидационной выборке\n",
      "_____________________________________________\n",
      "Прибыль с лучших 200 скважин в 1 регионе (в млн.руб): 3175.48\n",
      "Средние запасы сырья с лучших 200 скважин в регионе: 146.39\n",
      "_____________________________________________\n",
      "Прибыль с лучших 200 скважин во 2 регионе (в млн.руб): 2415.09\n",
      "Средние запасы сырья с лучших 200 скважин в регионе: 137.95\n",
      "_____________________________________________\n",
      "Прибыль с лучших 200 скважин в 3 регионе (в млн.руб): 2492.45\n",
      "Средние запасы сырья с лучших 200 скважин в регионе: 138.80\n",
      "_____________________________________________\n"
     ]
    }
   ],
   "source": [
    "# вызовем метод revenue, выведем данные о прибыли и средних запасах сырья на данных валидац.выборки\n",
    "selected_mean_1, revenue_best_points_1 = revenue(y_valid_1_cut, predictions_valid_1_cut)\n",
    "selected_mean_2, revenue_best_points_2 = revenue(y_valid_2_cut, predictions_valid_2_cut)\n",
    "selected_mean_3, revenue_best_points_3 = revenue(y_valid_3_cut, predictions_valid_3_cut)\n",
    "\n",
    "print(\"Прибыль и запасы сырья по регионам на валидационной выборке\")\n",
    "print(\"_____________________________________________\")\n",
    "print(\"Прибыль с лучших 200 скважин в 1 регионе (в млн.руб): {:.2f}\". format(revenue_best_points_1))\n",
    "print(\"Средние запасы сырья с лучших 200 скважин в регионе: {:.2f}\". format(selected_mean_1))\n",
    "print(\"_____________________________________________\")\n",
    "print(\"Прибыль с лучших 200 скважин во 2 регионе (в млн.руб): {:.2f}\". format(revenue_best_points_2))\n",
    "print(\"Средние запасы сырья с лучших 200 скважин в регионе: {:.2f}\". format(selected_mean_2))\n",
    "print(\"_____________________________________________\")\n",
    "print(\"Прибыль с лучших 200 скважин в 3 регионе (в млн.руб): {:.2f}\". format(revenue_best_points_3))\n",
    "print(\"Средние запасы сырья с лучших 200 скважин в регионе: {:.2f}\". format(selected_mean_3))\n",
    "print(\"_____________________________________________\")"
   ]
  },
  {
   "cell_type": "markdown",
   "id": "81b2cb82",
   "metadata": {},
   "source": [
    "По всем регионам средние запасы сырья на 200 скважинах превышают минимальный объём сырья для безубыточной разработки новой скважины - 111.11 тыс. баррелей.\n",
    "\n",
    "Все регионы показывают прибыль от разработки 200 скважин с наибольшим объемом запасов (на данных валидационной выборки)."
   ]
  },
  {
   "cell_type": "markdown",
   "id": "4a40dc32",
   "metadata": {},
   "source": [
    "<a id = 'Bootstrap'></a>"
   ]
  },
  {
   "cell_type": "markdown",
   "id": "4b9acc92",
   "metadata": {},
   "source": [
    "## Риски и прибыль для каждого региона"
   ]
  },
  {
   "cell_type": "markdown",
   "id": "b2abcf30",
   "metadata": {},
   "source": [
    "Посчитаем риски и прибыль для каждого региона:\n",
    "\n",
    "- применим технику `Bootstrap` с 1000 выборок, чтобы найти распределение прибыли,\n",
    "\n",
    "- найдем среднюю прибыль, `95%-й доверительный интервал` и риск убытков,\n",
    "\n",
    "- предложим регион для разработки скважин.\n",
    "\n",
    "Обьявим метод `calculate_profit_and_risks_bootstrap()` для расчета рисков и прибыли по каждому региону."
   ]
  },
  {
   "cell_type": "code",
   "execution_count": 70,
   "id": "127eb351",
   "metadata": {},
   "outputs": [],
   "source": [
    "# метод для расчета рисков и прибыли для каждого региона\n",
    "def calculate_profit_and_risks_bootstrap(target, probs, title):    \n",
    "    # массив данных по прибыли от переборов\n",
    "    values=[]    \n",
    "    # массив данных по результатам расчета в методе calculate_profit_and_risks_bootstrap()\n",
    "    profit_and_risks = []    \n",
    "    # счетчик убыточных переборов\n",
    "    lost = 0    \n",
    "    # сделаем 1000 переборов скважин в каждом регионе\n",
    "    for i in range(NUMBER_BOOTSTRAP_SAMPLES):        \n",
    "        # в каждом переборе берем по 500 скважин \n",
    "        target_sample = target.sample(RESEARCH_POINTS, replace=True, random_state=STATE)        \n",
    "        probs_sample = probs[target_sample.index]        \n",
    "        # вызовем метод revenue(), расчитаем прибыль по 200 топ-скважинам из 500\n",
    "        selected_mean, profit = revenue(target_sample, probs_sample)        \n",
    "        # подсчет убыточных переборов        \n",
    "        if profit < 0:            \n",
    "            lost +=1            \n",
    "        # массив данных по прибыли по всем переборам  (в млн.руб)   \n",
    "        values.append(profit)    \n",
    "    values = pd.Series(values)    \n",
    "    # средняя прибыль по всем переборам\n",
    "    profit_mean = values.mean()    \n",
    "    # границы доверительного интервала\n",
    "    lower = values.quantile((1 - CONFIDENCE_INTERVAL) / 2)    \n",
    "    upper = values.quantile((1 + CONFIDENCE_INTERVAL) / 2)     \n",
    "    # доля убытков в переборе\n",
    "    risk = lost*100 / 1000\n",
    "    \n",
    "    # вывод результатов на экран\n",
    "    print('Регион -', title)    \n",
    "    print('Средняя прибыль (в млн. руб): {:.2f}'.format(profit_mean))    \n",
    "    print('95% доверительный интервал (в млн.руб): ({:.2f}, {:.2f})'.format(lower, upper))\n",
    "    # сравним полученный процент убытков с допустимым\n",
    "    if risk < LOSS_THRESHOLD*100 :         \n",
    "        print('Вероятность убытков - {}%, меньше допустимой вероятности {}%'.format(risk, LOSS_THRESHOLD*100))        \n",
    "    else:        \n",
    "        print('Вероятность убытков - {}%, больше допустимой вероятности {}%'.format(risk, LOSS_THRESHOLD*100))         \n",
    "    print('_____________________________________________')\n",
    "    \n",
    "    # соберем показатели в один массив данных\n",
    "    row_profit_and_risks = [profit_mean, lower, upper, risk]    \n",
    "    return row_profit_and_risks, values"
   ]
  },
  {
   "cell_type": "code",
   "execution_count": 71,
   "id": "f43f8631",
   "metadata": {},
   "outputs": [],
   "source": [
    "#таблица с данными по результатам расчета в методе calculate_profit_and_risks_bootstrap()\n",
    "profit_and_risks = pd.DataFrame(columns = ['profit_mean', 'lower', 'upper', 'risk'])"
   ]
  },
  {
   "cell_type": "code",
   "execution_count": 72,
   "id": "ed8fac88",
   "metadata": {},
   "outputs": [
    {
     "name": "stdout",
     "output_type": "stream",
     "text": [
      "Регион - 1\n",
      "Средняя прибыль (в млн. руб): 459.17\n",
      "95% доверительный интервал (в млн.руб): (-88.62, 947.49)\n",
      "Вероятность убытков - 4.3%, больше допустимой вероятности 2.5%\n",
      "_____________________________________________\n",
      "Регион - 2\n",
      "Средняя прибыль (в млн. руб): 508.29\n",
      "95% доверительный интервал (в млн.руб): (92.45, 917.91)\n",
      "Вероятность убытков - 1.0%, меньше допустимой вероятности 2.5%\n",
      "_____________________________________________\n",
      "Регион - 2\n",
      "Средняя прибыль (в млн. руб): 345.05\n",
      "95% доверительный интервал (в млн.руб): (-177.31, 898.27)\n",
      "Вероятность убытков - 12.0%, больше допустимой вероятности 2.5%\n",
      "_____________________________________________\n"
     ]
    }
   ],
   "source": [
    "# результаты расчетов в методе calculate_profit_and_risks_bootstrap() по 1 региону\n",
    "profit_and_risks.loc[len(profit_and_risks.index)], values_1 = calculate_profit_and_risks_bootstrap(y_valid_1_cut,\n",
    "                                                                                                   predictions_valid_1_cut, '1')\n",
    "# результаты расчетов в методе calculate_profit_and_risks_bootstrap() по 2 региону\n",
    "profit_and_risks.loc[len(profit_and_risks.index)], values_2 = calculate_profit_and_risks_bootstrap(y_valid_2_cut,\n",
    "                                                                                                   predictions_valid_2_cut, '2')\n",
    "# результаты расчетов в методе calculate_profit_and_risks_bootstrap() по 3 региону\n",
    "profit_and_risks.loc[len(profit_and_risks.index)], values_3 = calculate_profit_and_risks_bootstrap(y_valid_3_cut,\n",
    "                                                                                                   predictions_valid_3_cut, '2')"
   ]
  },
  {
   "cell_type": "code",
   "execution_count": 73,
   "id": "6f80dd0c",
   "metadata": {},
   "outputs": [
    {
     "data": {
      "text/html": [
       "<div>\n",
       "<style scoped>\n",
       "    .dataframe tbody tr th:only-of-type {\n",
       "        vertical-align: middle;\n",
       "    }\n",
       "\n",
       "    .dataframe tbody tr th {\n",
       "        vertical-align: top;\n",
       "    }\n",
       "\n",
       "    .dataframe thead th {\n",
       "        text-align: right;\n",
       "    }\n",
       "</style>\n",
       "<table border=\"1\" class=\"dataframe\">\n",
       "  <thead>\n",
       "    <tr style=\"text-align: right;\">\n",
       "      <th></th>\n",
       "      <th>profit_mean</th>\n",
       "      <th>lower</th>\n",
       "      <th>upper</th>\n",
       "      <th>risk</th>\n",
       "    </tr>\n",
       "  </thead>\n",
       "  <tbody>\n",
       "    <tr>\n",
       "      <th>0</th>\n",
       "      <td>459.174282</td>\n",
       "      <td>-88.616057</td>\n",
       "      <td>947.489064</td>\n",
       "      <td>4.3</td>\n",
       "    </tr>\n",
       "    <tr>\n",
       "      <th>1</th>\n",
       "      <td>508.285688</td>\n",
       "      <td>92.446962</td>\n",
       "      <td>917.910278</td>\n",
       "      <td>1.0</td>\n",
       "    </tr>\n",
       "    <tr>\n",
       "      <th>2</th>\n",
       "      <td>345.050119</td>\n",
       "      <td>-177.307406</td>\n",
       "      <td>898.265098</td>\n",
       "      <td>12.0</td>\n",
       "    </tr>\n",
       "  </tbody>\n",
       "</table>\n",
       "</div>"
      ],
      "text/plain": [
       "   profit_mean       lower       upper  risk\n",
       "0   459.174282  -88.616057  947.489064   4.3\n",
       "1   508.285688   92.446962  917.910278   1.0\n",
       "2   345.050119 -177.307406  898.265098  12.0"
      ]
     },
     "execution_count": 73,
     "metadata": {},
     "output_type": "execute_result"
    }
   ],
   "source": [
    "#таблица с данными по результатам расчета прибыли, риска убытков, доверительного интервала\n",
    "profit_and_risks"
   ]
  },
  {
   "cell_type": "markdown",
   "id": "5920ec43",
   "metadata": {},
   "source": [
    "Построим график плотности распределения вероятности прибыли для каждого региона."
   ]
  },
  {
   "cell_type": "code",
   "execution_count": 84,
   "id": "ae876ba4",
   "metadata": {},
   "outputs": [
    {
     "data": {
      "image/png": "[encoded data removed]",
      "text/plain": [
       "<Figure size 640x480 with 1 Axes>"
      ]
     },
     "metadata": {},
     "output_type": "display_data"
    }
   ],
   "source": [
    "sns.distplot(values_1, bins=20,  label='1 регион')\n",
    "sns.distplot(values_2, bins=20, label='2 регион')\n",
    "sns.distplot(values_3, bins=20, label='3 регион')\n",
    "plt.legend(title=\"Bootstrap profit\")\n",
    "plt.title('График плотности распределения вероятности прибыли для каждого региона')\n",
    "plt.xlabel('Прибыль/Убыток')\n",
    "plt.ylabel('Плотность')\n",
    "plt.show()"
   ]
  },
  {
   "cell_type": "markdown",
   "id": "dc2154d8",
   "metadata": {},
   "source": [
    "Выводы:\n",
    "\n",
    "- из таблицы видно, что единственный регион, где вероятность убытков ниже, чем допустимое значение 2,5% - второй (индекс №1 в таблице), \n",
    "\n",
    "- второй регион показывает самый узкий доверительный интервал и самую выскую долю средней прибыли. В доверительный интервал переборы с убытком не попадают,\n",
    "\n",
    "- график так же показывает наибольшее количество значений средней прибыли у 2 региона и большего размера, размах данных уже, чем у других регионов, переборов с убытком намного меньше, чем в других регионах.\n",
    "\n",
    "Рекомендация: данные показывают, что по всем параметрам задания, **для безубыточной разработки скважин нужно выбрать 2 регион.**"
   ]
  },
  {
   "cell_type": "markdown",
   "id": "4b411458",
   "metadata": {},
   "source": [
    "**Примечание:** сделаем расчет на неочищенных данных"
   ]
  },
  {
   "cell_type": "code",
   "execution_count": 76,
   "id": "336e2299",
   "metadata": {},
   "outputs": [
    {
     "name": "stdout",
     "output_type": "stream",
     "text": [
      "Регион - 1\n",
      "Средняя прибыль (в млн. руб): 405.96\n",
      "95% доверительный интервал (в млн.руб): (-133.44, 924.22)\n",
      "Вероятность убытков - 6.6%, больше допустимой вероятности 2.5%\n",
      "_____________________________________________\n",
      "Регион - 2\n",
      "Средняя прибыль (в млн. руб): 507.53\n",
      "95% доверительный интервал (в млн.руб): (77.40, 910.85)\n",
      "Вероятность убытков - 0.9%, меньше допустимой вероятности 2.5%\n",
      "_____________________________________________\n",
      "Регион - 2\n",
      "Средняя прибыль (в млн. руб): 406.49\n",
      "95% доверительный интервал (в млн.руб): (-143.60, 952.89)\n",
      "Вероятность убытков - 8.4%, больше допустимой вероятности 2.5%\n",
      "_____________________________________________\n"
     ]
    }
   ],
   "source": [
    "#таблица с данными по результатам расчета в методе calculate_profit_and_risks_bootstrap()\n",
    "profit_and_risks1 = pd.DataFrame(columns = ['profit_mean', 'lower', 'upper', 'risk'])\n",
    "# результаты расчетов в методе calculate_profit_and_risks_bootstrap() по 1 региону\n",
    "profit_and_risks1.loc[len(profit_and_risks1.index)], values1 = calculate_profit_and_risks_bootstrap(y_valid_1,\n",
    "                                                                                                   predictions_valid_1, '1')\n",
    "# результаты расчетов в методе calculate_profit_and_risks_bootstrap() по 2 региону\n",
    "profit_and_risks1.loc[len(profit_and_risks1.index)], values2 = calculate_profit_and_risks_bootstrap(y_valid_2,\n",
    "                                                                                                   predictions_valid_2, '2')\n",
    "# результаты расчетов в методе calculate_profit_and_risks_bootstrap() по 3 региону\n",
    "profit_and_risks1.loc[len(profit_and_risks1.index)], values3 = calculate_profit_and_risks_bootstrap(y_valid_3,\n",
    "                                                                                                   predictions_valid_3, '2')"
   ]
  },
  {
   "cell_type": "code",
   "execution_count": 77,
   "id": "bdc40fbc",
   "metadata": {},
   "outputs": [
    {
     "data": {
      "text/html": [
       "<div>\n",
       "<style scoped>\n",
       "    .dataframe tbody tr th:only-of-type {\n",
       "        vertical-align: middle;\n",
       "    }\n",
       "\n",
       "    .dataframe tbody tr th {\n",
       "        vertical-align: top;\n",
       "    }\n",
       "\n",
       "    .dataframe thead th {\n",
       "        text-align: right;\n",
       "    }\n",
       "</style>\n",
       "<table border=\"1\" class=\"dataframe\">\n",
       "  <thead>\n",
       "    <tr style=\"text-align: right;\">\n",
       "      <th></th>\n",
       "      <th>profit_mean</th>\n",
       "      <th>lower</th>\n",
       "      <th>upper</th>\n",
       "      <th>risk</th>\n",
       "    </tr>\n",
       "  </thead>\n",
       "  <tbody>\n",
       "    <tr>\n",
       "      <th>0</th>\n",
       "      <td>405.960951</td>\n",
       "      <td>-133.440234</td>\n",
       "      <td>924.218443</td>\n",
       "      <td>6.6</td>\n",
       "    </tr>\n",
       "    <tr>\n",
       "      <th>1</th>\n",
       "      <td>507.525295</td>\n",
       "      <td>77.402377</td>\n",
       "      <td>910.847487</td>\n",
       "      <td>0.9</td>\n",
       "    </tr>\n",
       "    <tr>\n",
       "      <th>2</th>\n",
       "      <td>406.488202</td>\n",
       "      <td>-143.597191</td>\n",
       "      <td>952.886325</td>\n",
       "      <td>8.4</td>\n",
       "    </tr>\n",
       "  </tbody>\n",
       "</table>\n",
       "</div>"
      ],
      "text/plain": [
       "   profit_mean       lower       upper  risk\n",
       "0   405.960951 -133.440234  924.218443   6.6\n",
       "1   507.525295   77.402377  910.847487   0.9\n",
       "2   406.488202 -143.597191  952.886325   8.4"
      ]
     },
     "execution_count": 77,
     "metadata": {},
     "output_type": "execute_result"
    }
   ],
   "source": [
    "profit_and_risks1"
   ]
  },
  {
   "cell_type": "markdown",
   "id": "95fbd584",
   "metadata": {},
   "source": [
    "Результат тот же (не смотря на разницу в полученных показателях) - 2 регион (индекс в таблице №1) показывает лучшие результаты (вероятность убытков в 2.5 раза меньше, чем допустимое значение). Его следует брать в разработку."
   ]
  },
  {
   "cell_type": "markdown",
   "id": "a931fb44",
   "metadata": {},
   "source": [
    "## Итоги"
   ]
  },
  {
   "cell_type": "markdown",
   "id": "803dd3c7",
   "metadata": {},
   "source": [
    "Добывающая компания «ГлавРосГосНефть» предоставила пробы нефти в трёх регионах и характеристики для каждой скважины в регионе.\n",
    "\n",
    "Необходимо было предложить регион с минальным риском убытка и маскимальной прибылью для дальнейшей промышленной разработки.\n",
    "\n",
    "Для выполнении проекта было выполнены несколько шагов.\n",
    "\n",
    "Изучины данные. \n",
    "\n",
    "Для работы предоставлены данные в трех таблицах по 100000 объектов (в каждом регионе рассматривается по 100тыс скважин) и 5 признаков (характеристик) для них. Каждый датафрейм представляет регион разработки.\n",
    "\n",
    "В столбцах даны: уникальный идентификатор скважины, в трех последующих характеристики и с в последнем данные о запасах нефти по скважине.\n",
    "\n",
    "В столбцах-признаках содержатся как положительные так и отрицательные данных, назначение и смысл этих столбцов нам не известен, но сказано, что данные значимы.\n",
    "\n",
    "Пропусков, дубликатов в данных не обнаружили.\n",
    "\n",
    "Определили наличие неявных дубликатов в датафреймах по столбцу `id` скважины (первый регон - 10, второй и третий по 4 дубликата по идентификатору скважины). Кроме `id` остальные данные в столбцах-признаках отличаются между собой. Причиной их возникновения может быть использование разных глубин бурения, т.е. разные пласты залежей нефти. Возможно, по этому у некоторых скважин есть по два наблюдения с разными параметрами и разными данными о возможном объеме запасов на разных горизонтах многопластового месторождения. Неявные дубликаты не удаляли.\n",
    "\n",
    "Детальную информацию можно посмотреть по ссылке  [иследование данных](#df)\n",
    "\n",
    "Следующий шаг - подготовка данных к работе.\n",
    "\n",
    "Удалили столбец - идентификатор скважины, так как не дает качественной характеристики скважине.\n",
    "\n",
    "За целевой признак приняли столбец `product`.\n",
    "\n",
    "Определили класс задачи - регрессия.\n",
    "\n",
    "Рассмотрели целевой признак, нецелевые признаки, их влияние друг на друга, распределение данных.\n",
    "\n",
    "Во втором регионе обнаружили около 8,2% месторождений с нулевыми данными по запасам в столбце `product`. При сравнении с такими же значениями из первого и третьего региона сдалали вывод: данные были утеряны, не было исследовано количество барелей нефти и возможно самое верное - скважины пусты или найденные запасы очень низкие .\n",
    "\n",
    "Во втором регионе данные имеют странное распределение: с диапозом запасов от 0 до 5 - 10 баррелей с шагом по 15-20 равномерно распределены 100000 значений. Данные скорей всего представляют группировку по обьему запасов по 6 группам. Если посмотреть на гистограммы 1 и 3 региона, то тоже вырисовыется по рядка 6-8 групп по объемам запасов. Данные по некоторым столбцам в датафреймах выглядят \"рафинированно\", то есть скорее всего данны подверглись доп. обработке: сгруппированы во 2 датафрейме столбцах `product` и `f2`; в 1 и 3 датафрейме некоторые столбцы скорее всего были масштабированы.\n",
    "\n",
    "График боксплот показал, что в некоторых столбцах есть данные, выходящие за границы нормальных значений. Выбросы удалили.\n",
    "\n",
    "Датафреймы уменьшились не сильно, первый и второй потерял объекты менее 1% (0,5% и 0,6% соответственно), третий датафрейм потерял данных - 2%.\n",
    "\n",
    "Пороверили корреляцию признаков:\n",
    "\n",
    "- в 1 и 3 датафрейме некоторые признаки показывали слабую отрицательную (или положительную) корреляцию независимых признаков между собой и целевого признака с признаком `f2`,\n",
    "\n",
    "- во 2 датафрейме очень сильно положительно коррелирует целевой признак и признак `f2`, предположили, что получим модель хорошего качества.\n",
    "\n",
    "В наших данных числовые признаки отличаются друг от друга по модулю значений, данные в дальнейшем масштабировали.\n",
    "\n",
    "Детальную информацию можно посмотреть по ссылке  [подготовка данных](#df_cut)\n",
    "\n",
    "Обучена модель линейной регрессии для каждого региона.\n",
    "\n",
    "Разделили данные на обучающаю и валидационные выборки.\n",
    "\n",
    "Провели мастабирование независимых признаков.\n",
    "\n",
    "Обучили модель на обущающей выборке и вывели предсказания на валидационной выборке. Определили погрешность модели на выборка по каждому региону.\n",
    "\n",
    "Исходя из данных, погрешность модели (`RMSE`) меньше всего для 2 региона - 0.89. Почти линейная зависимость `f2` от `product` в данных второго региона,скорее всего положительно влияют на качество линейной модели. Погрешность в регионе 1 и 3 очень большая.\n",
    "\n",
    "Среднее количество сырья примерно одинакове в 1 и 3 регионе (92.50 и 94.89 соотвественно), во втором регионе в 1,3 раза чемьше, чем в 1 и 3 регоинах (68,68).\n",
    "\n",
    "Не смотря на достаточно большой размер погрешности в моделях для 1 и 3 региона, предсказанные средние запасы отличаются от фактических незначительно. Суммарные запасы предсказанные моделями по регионам близки к фактическим: модель по 1 региону ошиблась суммарно на 2600тыс. баррелей (предсказала меньше), по 2 региону на 69тыс. баррелей (предсказала суммарно меньше) и 3 регион на 850тыс. баррелей (предсказано суммарно больше).\n",
    "\n",
    "Модель по 2 регону показала наименьшую ошибку, но объемы сырья в месторождения 2 региона в 1,3 раза меньше, чем объемы сырья в 1 и 3 регионах.\n",
    "\n",
    "Детальную информацию можно посмотреть по ссылке  [обучение модели](#model)\n",
    "\n",
    "Далее подготовили данных к расчёту прибыли.\n",
    "\n",
    "Были расчитаны следующие показатели:\n",
    "\n",
    "- бюджет на на разработку одной скважины в регионе - 50 000 тыс. руб,\n",
    "\n",
    "- минимальный объём сырья для безубыточной разработки новой скважины - 111.11 тыс. баррелей,\n",
    "\n",
    "- средний запас сырья на скважину в регионе 1 - 92.50 тыс. баррелей, в регионе 2 - 68.83 тыс. баррелей, в регионе 3 - 95.00 тыс. баррелей. Средние запасы по регионам ниже, чем минимальный объём сырья для безубыточной разработки,\n",
    "\n",
    "- в каждом регионе достаточно скважин для отбора: в регионе 1 - 36,6% сважим могут дать объем более , чем расчетный для безубыточной разработки, в регионе 2 - 1,5%, в регионе 3 - 38,2% таких скважин.\n",
    "\n",
    "Детальную информацию можно посмотреть по ссылке  [показатели](#indicators)\n",
    "\n",
    "После расчитали прибыль и риски по каждому региону, выбрали подходящий регион.\n",
    "\n",
    "В работе использовали технику `Bootstrap` с 1000 выборок, чтобы найти распределение прибыли. Расчитали среднюю прибыль по переборам в регионах, `95%-й доверительный интервал` и риск убытков.\n",
    "\n",
    "Расчеты показали, что единственный регион, где вероятность убытков ниже, чем допустимое значение 2,5% - второй (вероятность убытков 1%). Он показывает самый узкий доверительный интервал (от 92.446962\tдо 917.910278 млн.руб) и самую высокую средняю прибыль (508.285688 млн.руб). В доверительный интервал переборы с убытком не попадают.\n",
    "\n",
    "Детальную информацию можно посмотреть по ссылке  [метод для расчета прибыли](#revenue)\n",
    "\n",
    "Детальную информацию можно посмотреть по ссылке  [прибыль и риски](#Bootstrap)\n",
    "\n",
    "\n",
    "**Рекомендация: данные показывают, что по всем параметрам задания, для безубыточной разработки скважин нужно выбрать 2 регион.**"
   ]
  }
 ],
 "metadata": {
  "kernelspec": {
   "display_name": "Python 3 (ipykernel)",
   "language": "python",
   "name": "python3"
  },
  "language_info": {
   "codemirror_mode": {
    "name": "ipython",
    "version": 3
   },
   "file_extension": ".py",
   "mimetype": "text/x-python",
   "name": "python",
   "nbconvert_exporter": "python",
   "pygments_lexer": "ipython3",
   "version": "3.10.9"
  },
  "toc": {
   "base_numbering": 1,
   "nav_menu": {
    "height": "68px",
    "width": "160px"
   },
   "number_sections": true,
   "sideBar": true,
   "skip_h1_title": true,
   "title_cell": "Table of Contents",
   "title_sidebar": "Contents",
   "toc_cell": true,
   "toc_position": {
    "height": "calc(100% - 180px)",
    "left": "10px",
    "top": "150px",
    "width": "341.333px"
   },
   "toc_section_display": true,
   "toc_window_display": true
  }
 },
 "nbformat": 4,
 "nbformat_minor": 5
}
